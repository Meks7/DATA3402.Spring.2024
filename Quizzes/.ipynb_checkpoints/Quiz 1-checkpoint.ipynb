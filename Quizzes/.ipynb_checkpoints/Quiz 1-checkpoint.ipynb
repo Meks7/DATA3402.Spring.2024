{
 "cells": [
  {
   "cell_type": "markdown",
   "id": "31a595d8-1b41-4cfa-8bd7-5043f25d2ce9",
   "metadata": {},
   "source": [
    "Quick Quiz:\n",
    "\n",
    "\n",
    "Can you rewrite create_new_args as a two lines of code using functional programming, list comprehensions, and shortcuts? How about a single line?"
   ]
  },
  {
   "cell_type": "code",
   "execution_count": null,
   "id": "dc77c600-144c-40b1-81b9-039d9cb4b798",
   "metadata": {},
   "outputs": [],
   "source": [
    "def create_new_args_0(args):\n",
    "    max_len = max(map(len,\n",
    "                      filter(lambda x: isinstance(x,list),\n",
    "                        args)))\n",
    "\n",
    "    # Rewrite this section:\n",
    "    new_args=list()\n",
    "\n",
    "    for a in args:\n",
    "        if not isinstance(a,list):\n",
    "            a0=[a]*max_len\n",
    "        elif len(a)!=max_len:\n",
    "            print(\"Error: all list arguments must have same length.\")\n",
    "            return\n",
    "        else:\n",
    "            a0=a\n",
    "        new_args.append(a0)\n",
    "\n",
    "    return new_args"
   ]
  },
  {
   "cell_type": "code",
   "execution_count": 9,
   "id": "e5c603cf-56dc-4107-b330-0617233faddf",
   "metadata": {},
   "outputs": [
    {
     "data": {
      "text/plain": [
       "[[1, 2], [3, 4]]"
      ]
     },
     "execution_count": 9,
     "metadata": {},
     "output_type": "execute_result"
    }
   ],
   "source": [
    "def create_new_args_0(args):\n",
    "    max_len = max(map(len, filter(lambda x: isinstance(x, list), args)))\n",
    "    return [[a] * max_len if not isinstance(a, list) else a for a in args if isinstance(a, list) and len(a) == max_len] or print(\"Error\")\n",
    "\n",
    "create_new_args_0([[1,2],[3,4],5])\n"
   ]
  },
  {
   "cell_type": "code",
   "execution_count": 8,
   "id": "55378c9a-cd2e-4ade-865a-d45b9d866f6b",
   "metadata": {},
   "outputs": [
    {
     "data": {
      "text/plain": [
       "[[3, 4, 5]]"
      ]
     },
     "execution_count": 8,
     "metadata": {},
     "output_type": "execute_result"
    }
   ],
   "source": [
    "def create_new_args_0(args):\n",
    "    max_len = max(map(len, filter(lambda x: isinstance(x, list), args)))\n",
    "    return [[a] * max_len if not isinstance(a, list) else a for a in args if isinstance(a, list) and len(a) == max_len] or print(\"Error\")\n",
    "\n",
    "create_new_args_0([[1,2],[3,4,5],5])"
   ]
  },
  {
   "cell_type": "code",
   "execution_count": 5,
   "id": "8c557387-8d6b-4af2-8f1a-f35609ce66fb",
   "metadata": {},
   "outputs": [
    {
     "data": {
      "text/plain": [
       "[[1, 2], [3, 4], [5, 5]]"
      ]
     },
     "execution_count": 5,
     "metadata": {},
     "output_type": "execute_result"
    }
   ],
   "source": [
    "def create_new_args(args):\n",
    "    return [[a] * max(map(len, filter(lambda x: isinstance(x, list), args))) if not isinstance(a, list) else a for a in args]\n",
    "\n",
    "create_new_args([[1,2],[3,4],5])\n"
   ]
  },
  {
   "cell_type": "code",
   "execution_count": 10,
   "id": "e85c267e-97d9-4439-a60d-1a2138d94c39",
   "metadata": {},
   "outputs": [
    {
     "data": {
      "text/plain": [
       "[[1, 2], [3, 4, 5], [5, 5, 5]]"
      ]
     },
     "execution_count": 10,
     "metadata": {},
     "output_type": "execute_result"
    }
   ],
   "source": [
    "def create_new_args(args):\n",
    "    return [[a] * max(map(len, filter(lambda x: isinstance(x, list), args))) if not isinstance(a, list) else a for a in args]\n",
    "    \n",
    "create_new_args([[1,2],[3,4,5],5])"
   ]
  },
  {
   "cell_type": "code",
   "execution_count": null,
   "id": "877c5736-7ed6-42d8-a39a-33c5965ffc83",
   "metadata": {},
   "outputs": [],
   "source": []
  }
 ],
 "metadata": {
  "kernelspec": {
   "display_name": "Python 3 (ipykernel)",
   "language": "python",
   "name": "python3"
  },
  "language_info": {
   "codemirror_mode": {
    "name": "ipython",
    "version": 3
   },
   "file_extension": ".py",
   "mimetype": "text/x-python",
   "name": "python",
   "nbconvert_exporter": "python",
   "pygments_lexer": "ipython3",
   "version": "3.11.8"
  }
 },
 "nbformat": 4,
 "nbformat_minor": 5
}
