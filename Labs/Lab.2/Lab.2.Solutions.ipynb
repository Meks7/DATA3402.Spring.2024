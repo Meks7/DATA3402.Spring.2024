{
 "cells": [
  {
   "cell_type": "markdown",
   "metadata": {},
   "source": [
    "## Lab 2- Tic Tac Toe\n",
    "\n",
    "In this lab your will build a n x n Tic Tac Toe game. As you do the exercises, make sure your solutions work for any size Tic Tac Toe game. "
   ]
  },
  {
   "cell_type": "markdown",
   "metadata": {},
   "source": [
    "*Exercise 1:* Write a function that creates an n by n matrix (of list of lists) which will represent the state of a Tie Tac Toe game. Let 0, 1, and 2 represent empty, \"X\", and \"O\", respectively.\n"
   ]
  },
  {
   "cell_type": "code",
   "execution_count": 3,
   "metadata": {},
   "outputs": [],
   "source": [
    "# Write you solution here\n"
   ]
  },
  {
   "cell_type": "code",
   "execution_count": 4,
   "metadata": {},
   "outputs": [
    {
     "name": "stdout",
     "output_type": "stream",
     "text": [
      "[[0, 0, 0], [0, 0, 0], [0, 0, 0]]\n"
     ]
    }
   ],
   "source": [
    "# Test your solution here\n",
    "\n",
    "def tictactoe(n):\n",
    "    grid = [[0 for _ in range (n)] for _ in range (n)]\n",
    "    return grid\n",
    "\n",
    "n = 3\n",
    "grid = tictactoe(n)\n",
    "print(grid)"
   ]
  },
  {
   "cell_type": "markdown",
   "metadata": {},
   "source": [
    "*Exercise 2:* Write a function that takes 2 integers `n` and `m` as input and draws a `n` by `m` game board. For example the following is a 3x3 board:\n",
    "```\n",
    "   --- --- --- \n",
    "  |   |   |   | \n",
    "   --- --- ---  \n",
    "  |   |   |   | \n",
    "   --- --- ---  \n",
    "  |   |   |   | \n",
    "   --- --- --- \n",
    "   ```"
   ]
  },
  {
   "cell_type": "code",
   "execution_count": 7,
   "metadata": {},
   "outputs": [
    {
     "name": "stdout",
     "output_type": "stream",
     "text": [
      " --- --- --- \n",
      "|   |   |   |   \n",
      " --- --- --- \n",
      "|   |   |   |   \n",
      " --- --- --- \n",
      "|   |   |   |   \n",
      " --- --- --- \n"
     ]
    }
   ],
   "source": [
    "# Write you solution here\n",
    "\n",
    "def tictactoe(n, m):\n",
    "    hor = \" ---\" * m + \" \"\n",
    "    vert = \"|   \" * (m + 1)\n",
    "    for i in range(n):\n",
    "        print (hor)\n",
    "        print(vert)\n",
    "    print(hor)\n",
    "\n",
    "n = 3\n",
    "m = 3\n",
    "tictactoe(n, m)\n"
   ]
  },
  {
   "cell_type": "code",
   "execution_count": 24,
   "metadata": {},
   "outputs": [
    {
     "name": "stdout",
     "output_type": "stream",
     "text": [
      " --- --- --- \n",
      "|   |   |   |   \n",
      " --- --- --- \n",
      "|   |   |   |   \n",
      " --- --- --- \n",
      "|   |   |   |   \n",
      " --- --- --- \n"
     ]
    }
   ],
   "source": [
    "# Test your solution here\n",
    "\n",
    "def tictactoe(n, m):\n",
    "    hor = \" ---\" * m + \" \"\n",
    "    vert = \"|   \" * (m + 1)\n",
    "    for i in range(n):\n",
    "        print (hor)\n",
    "        print(vert)\n",
    "    print(hor)\n",
    "\n",
    "n = 3\n",
    "m = 3\n",
    "tictactoe(n, m)"
   ]
  },
  {
   "cell_type": "markdown",
   "metadata": {},
   "source": [
    "*Exercise 3:* Modify exercise 2, so that it takes a matrix of the form from exercise 1 and draws a tic-tac-tie board with \"X\"s and \"O\"s.  "
   ]
  },
  {
   "cell_type": "code",
   "execution_count": 13,
   "metadata": {},
   "outputs": [
    {
     "name": "stdout",
     "output_type": "stream",
     "text": [
      " --- --- --- \n",
      "| X |   |   |\n",
      " --- --- --- \n",
      "|   | O |   |\n",
      " --- --- --- \n",
      "|   |   | X |\n",
      " --- --- --- \n"
     ]
    }
   ],
   "source": [
    "# Write you solution here\n",
    "def tictactoe_matrix(n):\n",
    "    grid = [[0 for _ in range(n)] for _ in range(n)]\n",
    "    return grid\n",
    "\n",
    "def draw_tictactoe(grid):\n",
    "    n = len(grid)  # Assuming a square grid\n",
    "    hor = \" ---\" * n + \" \"\n",
    "    for row in grid:\n",
    "        print(hor)\n",
    "        vert_line = \"|\"\n",
    "        for cell in row:\n",
    "            if cell == 0:  # Empty cell\n",
    "                vert_line += \"   |\"\n",
    "            elif cell == 1:  # Player 1 (\"X\")\n",
    "                vert_line += \" X |\"\n",
    "            elif cell == 2:  # Player 2 (\"O\")\n",
    "                vert_line += \" O |\"\n",
    "        print(vert_line)\n",
    "    print(hor)\n",
    "\n",
    "# Example usage with a filled grid\n",
    "n = 3\n",
    "grid = tictactoe_matrix(n)\n",
    "# Manually populating the grid for demonstration. You'd have game logic to do this based on player moves.\n",
    "grid[0][0] = 1  # Player 1 places \"X\"\n",
    "grid[1][1] = 2  # Player 2 places \"O\"\n",
    "grid[2][2] = 1  # Player 1 places \"X\" again\n",
    "\n",
    "draw_tictactoe(grid)\n"
   ]
  },
  {
   "cell_type": "code",
   "execution_count": 33,
   "metadata": {},
   "outputs": [
    {
     "name": "stdout",
     "output_type": "stream",
     "text": [
      " --- --- ---\n",
      "| X | O | X \n",
      " --- --- ---\n",
      "| O | X | O \n",
      " --- --- ---\n",
      "| X | X | O \n",
      " --- --- ---\n"
     ]
    }
   ],
   "source": [
    "# Test your solution here"
   ]
  },
  {
   "cell_type": "markdown",
   "metadata": {},
   "source": [
    "*Exercise 4:* Write a function that takes a `n` by `n` matrix representing a tic-tac-toe game, and returns -1, 0, 1, or 2 indicating the game is incomplete, the game is a draw, player 1 has won, or player 2 has one, respectively. Here are some example inputs you can use to test your code:"
   ]
  },
  {
   "cell_type": "code",
   "execution_count": 16,
   "metadata": {},
   "outputs": [],
   "source": [
    "# Write you solution here\n",
    "\n",
    "def check_tictactoe(matrix):\n",
    "    n = len(matrix)\n",
    "    \n",
    "    for i in range(n):\n",
    "        if all(matrix[i][j] == 1 for j in range(n)):\n",
    "            return 1  \n",
    "        if all(matrix[i][j] == 2 for j in range(n)):\n",
    "            return 2  \n",
    "        if all(matrix[j][i] == 1 for j in range(n)):\n",
    "            return 1  \n",
    "        if all(matrix[j][i] == 2 for j in range(n)):\n",
    "            return 2 \n",
    "    if all(matrix[i][i] == 1 for i in range(n)):\n",
    "        return 1  # Player 1 wins\n",
    "    if all(matrix[i][i] == 2 for i in range(n)):\n",
    "        return 2  # Player 2 wins\n",
    "    if all(matrix[i][n-i-1] == 1 for i in range(n)):\n",
    "        return 1  # Player 1 wins\n",
    "    if all(matrix[i][n-i-1] == 2 for i in range(n)):\n",
    "        return 2 \n",
    "    \n",
    "    \n",
    "    for row in matrix:\n",
    "        if 0 in row: \n",
    "            return -1\n",
    "    return 0\n",
    "\n",
    "winner_is_2 = [[2, 2, 0], [2, 1, 0], [2, 1, 1]]\n",
    "winner_is_1 = [[1, 2, 0], [2, 1, 0], [2, 1, 1]]\n",
    "winner_is_also_1 = [[0, 1, 0], [2, 1, 0], [2, 1, 1]]\n",
    "no_winner = [[1, 2, 0], [2, 1, 0], [2, 1, 2]]\n",
    "also_no_winner = [[1, 2, 0], [2, 1, 0], [2, 1, 0]]\n",
    "\n",
    "print(check_tictactoe(winner_is_2))  \n",
    "print(check_tictactoe(winner_is_1))  \n",
    "print(check_tictactoe(winner_is_also_1)) \n",
    "print(check_tictactoe(no_winner))  \n",
    "print(check_tictactoe(also_no_winner))  \n",
    "\n"
   ]
  },
  {
   "cell_type": "code",
   "execution_count": null,
   "metadata": {
    "collapsed": true,
    "jupyter": {
     "outputs_hidden": true
    }
   },
   "outputs": [],
   "source": [
    "# Test your solution here\n",
    "\n",
    "def check_tictactoe(matrix):\n",
    "    n = len(matrix)\n",
    "    \n",
    "    for i in range(n):\n",
    "        if all(matrix[i][j] == 1 for j in range(n)):\n",
    "            return 1  \n",
    "        if all(matrix[i][j] == 2 for j in range(n)):\n",
    "            return 2  \n",
    "        if all(matrix[j][i] == 1 for j in range(n)):\n",
    "            return 1  \n",
    "        if all(matrix[j][i] == 2 for j in range(n)):\n",
    "            return 2 \n",
    "    if all(matrix[i][i] == 1 for i in range(n)):\n",
    "        return 1  # Player 1 wins\n",
    "    if all(matrix[i][i] == 2 for i in range(n)):\n",
    "        return 2  # Player 2 wins\n",
    "    if all(matrix[i][n-i-1] == 1 for i in range(n)):\n",
    "        return 1  # Player 1 wins\n",
    "    if all(matrix[i][n-i-1] == 2 for i in range(n)):\n",
    "        return 2 \n",
    "    \n",
    "    \n",
    "    for row in matrix:\n",
    "        if 0 in row: \n",
    "            return -1\n",
    "    return 0\n",
    "\n",
    "winner_is_2 = [[2, 2, 0], [2, 1, 0], [2, 1, 1]]\n",
    "winner_is_1 = [[1, 2, 0], [2, 1, 0], [2, 1, 1]]\n",
    "winner_is_also_1 = [[0, 1, 0], [2, 1, 0], [2, 1, 1]]\n",
    "no_winner = [[1, 2, 0], [2, 1, 0], [2, 1, 2]]\n",
    "also_no_winner = [[1, 2, 0], [2, 1, 0], [2, 1, 0]]\n",
    "\n",
    "print(check_tictactoe(winner_is_2))  \n",
    "print(check_tictactoe(winner_is_1))  \n",
    "print(check_tictactoe(winner_is_also_1)) \n",
    "print(check_tictactoe(no_winner))  \n",
    "print(check_tictactoe(also_no_winner))  \n",
    "\n",
    "\n"
   ]
  },
  {
   "cell_type": "code",
   "execution_count": 34,
   "metadata": {},
   "outputs": [],
   "source": [
    "winner_is_2 = [[2, 2, 0],\n",
    "\t[2, 1, 0],\n",
    "\t[2, 1, 1]]\n",
    "\n",
    "winner_is_1 = [[1, 2, 0],\n",
    "\t[2, 1, 0],\n",
    "\t[2, 1, 1]]\n",
    "\n",
    "winner_is_also_1 = [[0, 1, 0],\n",
    "\t[2, 1, 0],\n",
    "\t[2, 1, 1]]\n",
    "\n",
    "no_winner = [[1, 2, 0],\n",
    "\t[2, 1, 0],\n",
    "\t[2, 1, 2]]\n",
    "\n",
    "also_no_winner = [[1, 2, 0],\n",
    "\t[2, 1, 0],\n",
    "\t[2, 1, 0]]"
   ]
  },
  {
   "cell_type": "markdown",
   "metadata": {},
   "source": [
    "*Exercise 5:* Write a function that takes a game board, player number, and `(x,y)` coordinates and places \"X\" or \"O\" in the correct location of the game board. Make sure that you only allow filling previously empty locations. Return `True` or `False` to indicate successful placement of \"X\" or \"O\"."
   ]
  },
  {
   "cell_type": "code",
   "execution_count": 17,
   "metadata": {},
   "outputs": [
    {
     "name": "stdout",
     "output_type": "stream",
     "text": [
      "2\n",
      "1\n",
      "1\n",
      "-1\n",
      "-1\n"
     ]
    }
   ],
   "source": [
    "# Write you solution here\n",
    "def check_tictactoe(matrix):\n",
    "    n = len(matrix)\n",
    "    \n",
    "    for i in range(n):\n",
    "        if all(matrix[i][j] == 1 for j in range(n)):\n",
    "            return 1  \n",
    "        if all(matrix[i][j] == 2 for j in range(n)):\n",
    "            return 2  \n",
    "        if all(matrix[j][i] == 1 for j in range(n)):\n",
    "            return 1  \n",
    "        if all(matrix[j][i] == 2 for j in range(n)):\n",
    "            return 2 \n",
    "    if all(matrix[i][i] == 1 for i in range(n)):\n",
    "        return 1  # Player 1 wins\n",
    "    if all(matrix[i][i] == 2 for i in range(n)):\n",
    "        return 2  # Player 2 wins\n",
    "    if all(matrix[i][n-i-1] == 1 for i in range(n)):\n",
    "        return 1  # Player 1 wins\n",
    "    if all(matrix[i][n-i-1] == 2 for i in range(n)):\n",
    "        return 2 \n",
    "    \n",
    "    \n",
    "    for row in matrix:\n",
    "        if 0 in row: \n",
    "            return -1\n",
    "    return 0\n",
    "\n",
    "winner_is_2 = [[2, 2, 0], [2, 1, 0], [2, 1, 1]]\n",
    "winner_is_1 = [[1, 2, 0], [2, 1, 0], [2, 1, 1]]\n",
    "winner_is_also_1 = [[0, 1, 0], [2, 1, 0], [2, 1, 1]]\n",
    "no_winner = [[1, 2, 0], [2, 1, 0], [2, 1, 2]]\n",
    "also_no_winner = [[1, 2, 0], [2, 1, 0], [2, 1, 0]]\n",
    "\n",
    "print(check_tictactoe(winner_is_2))  \n",
    "print(check_tictactoe(winner_is_1))  \n",
    "print(check_tictactoe(winner_is_also_1)) \n",
    "print(check_tictactoe(no_winner))  \n",
    "print(check_tictactoe(also_no_winner))  \n",
    "\n",
    "def place_move(game_board, player_number, x, y):\n",
    "    if 0 <= x < len(game_board) and 0 <= y < len(game_board[0]) and game_board[x][y] == 0:\n",
    "        game_board[x][y] = \"X\" if player_number == 1 else \"O\"\n",
    "        return True\n",
    "    return False"
   ]
  },
  {
   "cell_type": "code",
   "execution_count": 43,
   "metadata": {},
   "outputs": [
    {
     "name": "stdout",
     "output_type": "stream",
     "text": [
      "Move successful: False\n",
      "Current game board:\n",
      "[' ', ' ', ' ']\n",
      "[' ', ' ', ' ']\n",
      "[' ', ' ', ' ']\n"
     ]
    }
   ],
   "source": [
    "# Test your solution here\n",
    "def check_tictactoe(matrix):\n",
    "    n = len(matrix)\n",
    "    \n",
    "    for i in range(n):\n",
    "        if all(matrix[i][j] == 1 for j in range(n)):\n",
    "            return 1  \n",
    "        if all(matrix[i][j] == 2 for j in range(n)):\n",
    "            return 2  \n",
    "        if all(matrix[j][i] == 1 for j in range(n)):\n",
    "            return 1  \n",
    "        if all(matrix[j][i] == 2 for j in range(n)):\n",
    "            return 2 \n",
    "    if all(matrix[i][i] == 1 for i in range(n)):\n",
    "        return 1  # Player 1 wins\n",
    "    if all(matrix[i][i] == 2 for i in range(n)):\n",
    "        return 2  # Player 2 wins\n",
    "    if all(matrix[i][n-i-1] == 1 for i in range(n)):\n",
    "        return 1  # Player 1 wins\n",
    "    if all(matrix[i][n-i-1] == 2 for i in range(n)):\n",
    "        return 2 \n",
    "    \n",
    "    \n",
    "    for row in matrix:\n",
    "        if 0 in row: \n",
    "            return -1\n",
    "    return 0\n",
    "\n",
    "winner_is_2 = [[2, 2, 0], [2, 1, 0], [2, 1, 1]]\n",
    "winner_is_1 = [[1, 2, 0], [2, 1, 0], [2, 1, 1]]\n",
    "winner_is_also_1 = [[0, 1, 0], [2, 1, 0], [2, 1, 1]]\n",
    "no_winner = [[1, 2, 0], [2, 1, 0], [2, 1, 2]]\n",
    "also_no_winner = [[1, 2, 0], [2, 1, 0], [2, 1, 0]]\n",
    "\n",
    "print(check_tictactoe(winner_is_2))  \n",
    "print(check_tictactoe(winner_is_1))  \n",
    "print(check_tictactoe(winner_is_also_1)) \n",
    "print(check_tictactoe(no_winner))  \n",
    "print(check_tictactoe(also_no_winner))  \n",
    "\n",
    "def place_move(game_board, player_number, x, y):\n",
    "    if 0 <= x < len(game_board) and 0 <= y < len(game_board[0]) and game_board[x][y] == 0:\n",
    "        game_board[x][y] = \"X\" if player_number == 1 else \"O\"\n",
    "        return True\n",
    "    return False"
   ]
  },
  {
   "cell_type": "markdown",
   "metadata": {},
   "source": [
    "*Exercise 6:* Modify Exercise 4 to show column and row labels so that players can specify location using \"A2\" or \"C1\"."
   ]
  },
  {
   "cell_type": "code",
   "execution_count": 47,
   "metadata": {},
   "outputs": [],
   "source": [
    "# Write you solution here\n",
    "def label_to_index(label):\n",
    "    column_map = {'A': 0, 'B': 1, 'C': 2}  # Adjust if your board is larger\n",
    "    col = column_map[label[0].upper()]\n",
    "    row = int(label[1]) - 1\n",
    "    return row, col\n",
    "\n",
    "def apply_move(board, player_number, position_label):\n",
    "    row, col = label_to_index(position_label)\n",
    "    if 0 <= row < len(board) and 0 <= col < len(board[0]) and board[row][col] == 0:\n",
    "        board[row][col] = player_number\n",
    "        return True\n",
    "    return False\n",
    "\n",
    "def check_tictactoe(matrix):\n",
    "    n = len(matrix)\n",
    "    for i in range(n):\n",
    "        if all(matrix[i][j] == 1 for j in range(n)):\n",
    "            return 1\n",
    "        if all(matrix[i][j] == 2 for j in range(n)):\n",
    "            return 2\n",
    "        if all(matrix[j][i] == 1 for j in range(n)):\n",
    "            return 1\n",
    "        if all(matrix[j][i] == 2 for j in range(n)):\n",
    "            return 2\n",
    "    if all(matrix[i][i] == 1 for i in range(n)):\n",
    "        return 1\n",
    "    if all(matrix[i][i] == 2 for i in range(n)):\n",
    "        return 2\n",
    "    if all(matrix[i][n-i-1] == 1 for i in range(n)):\n",
    "        return 1\n",
    "    if all(matrix[i][n-i-1] == 2 for i in range(n)):\n",
    "        return 2\n",
    "    if all(0 not in row for row in matrix):\n",
    "        return 0\n",
    "    return -1\n",
    "\n",
    "\n",
    "board = [[0, 0, 0], [0, 0, 0], [0, 0, 0]] \n",
    "apply_move(board, 1, \"A1\") \n",
    "apply_move(board, 2, \"B2\") \n",
    "\n",
    "print(check_tictactoe(board))\n"
   ]
  },
  {
   "cell_type": "code",
   "execution_count": 18,
   "metadata": {},
   "outputs": [
    {
     "name": "stdout",
     "output_type": "stream",
     "text": [
      "-1\n"
     ]
    }
   ],
   "source": [
    "# Test your solution here\n",
    "def label_to_index(label):\n",
    "    column_map = {'A': 0, 'B': 1, 'C': 2}  # Adjust if your board is larger\n",
    "    col = column_map[label[0].upper()]\n",
    "    row = int(label[1]) - 1\n",
    "    return row, col\n",
    "\n",
    "def apply_move(board, player_number, position_label):\n",
    "    row, col = label_to_index(position_label)\n",
    "    if 0 <= row < len(board) and 0 <= col < len(board[0]) and board[row][col] == 0:\n",
    "        board[row][col] = player_number\n",
    "        return True\n",
    "    return False\n",
    "\n",
    "def check_tictactoe(matrix):\n",
    "    n = len(matrix)\n",
    "    for i in range(n):\n",
    "        if all(matrix[i][j] == 1 for j in range(n)):\n",
    "            return 1\n",
    "        if all(matrix[i][j] == 2 for j in range(n)):\n",
    "            return 2\n",
    "        if all(matrix[j][i] == 1 for j in range(n)):\n",
    "            return 1\n",
    "        if all(matrix[j][i] == 2 for j in range(n)):\n",
    "            return 2\n",
    "    if all(matrix[i][i] == 1 for i in range(n)):\n",
    "        return 1\n",
    "    if all(matrix[i][i] == 2 for i in range(n)):\n",
    "        return 2\n",
    "    if all(matrix[i][n-i-1] == 1 for i in range(n)):\n",
    "        return 1\n",
    "    if all(matrix[i][n-i-1] == 2 for i in range(n)):\n",
    "        return 2\n",
    "    if all(0 not in row for row in matrix):\n",
    "        return 0\n",
    "    return -1\n",
    "\n",
    "\n",
    "board = [[0, 0, 0], [0, 0, 0], [0, 0, 0]] \n",
    "apply_move(board, 1, \"A1\") \n",
    "apply_move(board, 2, \"B2\") \n",
    "\n",
    "print(check_tictactoe(board))\n"
   ]
  },
  {
   "cell_type": "markdown",
   "metadata": {},
   "source": [
    "*Exercise 7:* Write a function that takes a board, player number, and location specified as in exercise 6 and then calls exercise 5 to correctly modify the board.  "
   ]
  },
  {
   "cell_type": "code",
   "execution_count": 19,
   "metadata": {},
   "outputs": [],
   "source": [
    "# Write you solution here\n",
    "def place_move_with_label(board, player_number, position_label):\n",
    "    row, col = label_to_index(position_label)\n",
    "    return place_move(board, player_number, row, col)\n",
    "\n",
    "def label_to_index(label):\n",
    "    column_map = {'A': 0, 'B': 1, 'C': 2}\n",
    "    col = column_map[label[0].upper()]\n",
    "    row = int(label[1]) - 1\n",
    "    return row, col\n",
    "\n",
    "def place_move(game_board, player_number, x, y):\n",
    "    if 0 <= x < len(game_board) and 0 <= y < len(game_board[0]) and game_board[x][y] == 0:\n",
    "        game_board[x][y] = \"X\" if player_number == 1 else \"O\"\n",
    "        return True\n",
    "    return False\n",
    "\n"
   ]
  },
  {
   "cell_type": "code",
   "execution_count": 20,
   "metadata": {},
   "outputs": [],
   "source": [
    "# Test your solution here\n",
    "def place_move_with_label(board, player_number, position_label):\n",
    "    row, col = label_to_index(position_label)\n",
    "    return place_move(board, player_number, row, col)\n",
    "\n",
    "def label_to_index(label):\n",
    "    column_map = {'A': 0, 'B': 1, 'C': 2}\n",
    "    col = column_map[label[0].upper()]\n",
    "    row = int(label[1]) - 1\n",
    "    return row, col\n",
    "\n",
    "def place_move(game_board, player_number, x, y):\n",
    "    if 0 <= x < len(game_board) and 0 <= y < len(game_board[0]) and game_board[x][y] == 0:\n",
    "        game_board[x][y] = \"X\" if player_number == 1 else \"O\"\n",
    "        return True\n",
    "    return False\n",
    "\n"
   ]
  },
  {
   "cell_type": "markdown",
   "metadata": {},
   "source": [
    "*Exercise 8:* Write a function is called with a board and player number, takes input from the player using python's `input`, and modifies the board using your function from exercise 7. Note that you should keep asking for input until you have gotten a valid input that results in a valid move."
   ]
  },
  {
   "cell_type": "code",
   "execution_count": 21,
   "metadata": {},
   "outputs": [],
   "source": [
    "# Write you solution here\n",
    "def get_player_input_and_place_move(board, player_number):\n",
    "    move_made = False\n",
    "    while not move_made:\n",
    "        position_label = input(f\"Player {player_number}, enter your move (e.g., A1): \")\n",
    "        move_made = place_move_with_label(board, player_number, position_label)\n",
    "        if not move_made:\n",
    "            print(\"Invalid move or position already taken. Please try again.\")"
   ]
  },
  {
   "cell_type": "code",
   "execution_count": null,
   "metadata": {
    "collapsed": true,
    "jupyter": {
     "outputs_hidden": true
    }
   },
   "outputs": [],
   "source": [
    "# Test your solution here\n",
    "\n",
    "def get_player_input_and_place_move(board, player_number):\n",
    "    move_made = False\n",
    "    while not move_made:\n",
    "        position_label = input(f\"Player {player_number}, enter your move (e.g., A1): \")\n",
    "        move_made = place_move_with_label(board, player_number, position_label)\n",
    "        if not move_made:\n",
    "            print(\"Invalid move or position already taken. Please try again.\")"
   ]
  },
  {
   "cell_type": "markdown",
   "metadata": {},
   "source": [
    "*Exercise 9:* Use all of the previous exercises to implement a full tic-tac-toe game, where an appropriate board is drawn, 2 players are repeatedly asked for a location coordinates of where they wish to place a mark, and the game status is checked until a player wins or a draw occurs."
   ]
  },
  {
   "cell_type": "code",
   "execution_count": 22,
   "metadata": {},
   "outputs": [
    {
     "name": "stdout",
     "output_type": "stream",
     "text": [
      " --- --- ---\n",
      "|   |   |   |\n",
      " --- --- ---\n",
      "|   |   |   |\n",
      " --- --- ---\n",
      "|   |   |   |\n",
      " --- --- ---\n"
     ]
    },
    {
     "name": "stdin",
     "output_type": "stream",
     "text": [
      "Player 1's turn ('A1', 'B2', etc.):  A1\n"
     ]
    },
    {
     "name": "stdout",
     "output_type": "stream",
     "text": [
      " --- --- ---\n",
      "| X |   |   |\n",
      " --- --- ---\n",
      "|   |   |   |\n",
      " --- --- ---\n",
      "|   |   |   |\n",
      " --- --- ---\n"
     ]
    },
    {
     "name": "stdin",
     "output_type": "stream",
     "text": [
      "Player 2's turn ('A1', 'B2', etc.):  B3\n"
     ]
    },
    {
     "name": "stdout",
     "output_type": "stream",
     "text": [
      " --- --- ---\n",
      "| X |   |   |\n",
      " --- --- ---\n",
      "|   |   |   |\n",
      " --- --- ---\n",
      "|   | O |   |\n",
      " --- --- ---\n"
     ]
    },
    {
     "name": "stdin",
     "output_type": "stream",
     "text": [
      "Player 1's turn ('A1', 'B2', etc.):  A1\n"
     ]
    },
    {
     "name": "stdout",
     "output_type": "stream",
     "text": [
      "Invalid move, try again.\n"
     ]
    },
    {
     "name": "stdin",
     "output_type": "stream",
     "text": [
      "Player 1's turn ('A1', 'B2', etc.):  A2\n"
     ]
    },
    {
     "name": "stdout",
     "output_type": "stream",
     "text": [
      " --- --- ---\n",
      "| X |   |   |\n",
      " --- --- ---\n",
      "| X |   |   |\n",
      " --- --- ---\n",
      "|   | O |   |\n",
      " --- --- ---\n"
     ]
    },
    {
     "name": "stdin",
     "output_type": "stream",
     "text": [
      "Player 2's turn ('A1', 'B2', etc.):  B2\n"
     ]
    },
    {
     "name": "stdout",
     "output_type": "stream",
     "text": [
      " --- --- ---\n",
      "| X |   |   |\n",
      " --- --- ---\n",
      "| X | O |   |\n",
      " --- --- ---\n",
      "|   | O |   |\n",
      " --- --- ---\n"
     ]
    },
    {
     "name": "stdin",
     "output_type": "stream",
     "text": [
      "Player 1's turn ('A1', 'B2', etc.):  A3\n"
     ]
    },
    {
     "name": "stdout",
     "output_type": "stream",
     "text": [
      " --- --- ---\n",
      "| X |   |   |\n",
      " --- --- ---\n",
      "| X | O |   |\n",
      " --- --- ---\n",
      "| X | O |   |\n",
      " --- --- ---\n",
      "Player 1 wins!\n"
     ]
    }
   ],
   "source": [
    "# Write you solution here\n",
    "def label_to_index(label):\n",
    "    column_map = {'A': 0, 'B': 1, 'C': 2}\n",
    "    col = column_map.get(label[0].upper(), -1)\n",
    "    row = int(label[1]) - 1 if label[1].isdigit() and 0 < int(label[1]) <= 3 else -1\n",
    "    return row, col\n",
    "\n",
    "def place_move(game_board, player_number, x, y):\n",
    "    if 0 <= x < len(game_board) and 0 <= y < len(game_board[0]) and game_board[x][y] == 0:\n",
    "        game_board[x][y] = 1 if player_number == 1 else 2\n",
    "        return True\n",
    "    return False\n",
    "\n",
    "def place_move_with_label(board, player_number, position_label):\n",
    "    row, col = label_to_index(position_label)\n",
    "    if row == -1 or col == -1:\n",
    "        return False\n",
    "    return place_move(board, player_number, row, col)\n",
    "\n",
    "def draw_board(board):\n",
    "    for row in board:\n",
    "        print(\" ---\" * len(row))\n",
    "        print(\"|\" + \"|\".join(f\" {(' ' if cell == 0 else 'X' if cell == 1 else 'O')} \" for cell in row) + \"|\")\n",
    "    print(\" ---\" * len(board[0]))\n",
    "\n",
    "def check_tictactoe(matrix):\n",
    "    n = len(matrix)\n",
    "    lines = []\n",
    "    for i in range(n):\n",
    "        lines.append(matrix[i])\n",
    "        lines.append([matrix[j][i] for j in range(n)])\n",
    "    lines.append([matrix[i][i] for i in range(n)])\n",
    "    lines.append([matrix[i][n-i-1] for i in range(n)])\n",
    "    for line in lines:\n",
    "        if all(cell == 1 for cell in line):\n",
    "            return 1\n",
    "        if all(cell == 2 for cell in line):\n",
    "            return 2\n",
    "    if all(cell != 0 for row in matrix for cell in row):\n",
    "        return 0\n",
    "    return -1\n",
    "\n",
    "def play_tictactoe():\n",
    "    board = [[0 for _ in range(3)] for _ in range(3)]\n",
    "    player = 1\n",
    "    while True:\n",
    "        draw_board(board)\n",
    "        valid_move = False\n",
    "        while not valid_move:\n",
    "            move = input(f\"Player {player}'s turn ('A1', 'B2', etc.): \")\n",
    "            valid_move = place_move_with_label(board, player, move)\n",
    "            if not valid_move:\n",
    "                print(\"Invalid move, try again.\")\n",
    "        status = check_tictactoe(board)\n",
    "        if status != -1:\n",
    "            draw_board(board)\n",
    "            if status == 0:\n",
    "                print(\"The game is a draw.\")\n",
    "            else:\n",
    "                print(f\"Player {status} wins!\")\n",
    "            break\n",
    "        player = 2 if player == 1 else 1\n",
    "\n",
    "play_tictactoe()\n"
   ]
  },
  {
   "cell_type": "code",
   "execution_count": null,
   "metadata": {
    "collapsed": true,
    "jupyter": {
     "outputs_hidden": true
    }
   },
   "outputs": [],
   "source": [
    "# Test your solution here\n",
    "def label_to_index(label):\n",
    "    column_map = {'A': 0, 'B': 1, 'C': 2}\n",
    "    col = column_map.get(label[0].upper(), -1)\n",
    "    row = int(label[1]) - 1 if label[1].isdigit() and 0 < int(label[1]) <= 3 else -1\n",
    "    return row, col\n",
    "\n",
    "def place_move(game_board, player_number, x, y):\n",
    "    if 0 <= x < len(game_board) and 0 <= y < len(game_board[0]) and game_board[x][y] == 0:\n",
    "        game_board[x][y] = 1 if player_number == 1 else 2\n",
    "        return True\n",
    "    return False\n",
    "\n",
    "def place_move_with_label(board, player_number, position_label):\n",
    "    row, col = label_to_index(position_label)\n",
    "    if row == -1 or col == -1:\n",
    "        return False\n",
    "    return place_move(board, player_number, row, col)\n",
    "\n",
    "def draw_board(board):\n",
    "    for row in board:\n",
    "        print(\" ---\" * len(row))\n",
    "        print(\"|\" + \"|\".join(f\" {(' ' if cell == 0 else 'X' if cell == 1 else 'O')} \" for cell in row) + \"|\")\n",
    "    print(\" ---\" * len(board[0]))\n",
    "\n",
    "def check_tictactoe(matrix):\n",
    "    n = len(matrix)\n",
    "    lines = []\n",
    "    for i in range(n):\n",
    "        lines.append(matrix[i])\n",
    "        lines.append([matrix[j][i] for j in range(n)])\n",
    "    lines.append([matrix[i][i] for i in range(n)])\n",
    "    lines.append([matrix[i][n-i-1] for i in range(n)])\n",
    "    for line in lines:\n",
    "        if all(cell == 1 for cell in line):\n",
    "            return 1\n",
    "        if all(cell == 2 for cell in line):\n",
    "            return 2\n",
    "    if all(cell != 0 for row in matrix for cell in row):\n",
    "        return 0\n",
    "    return -1\n",
    "\n",
    "def play_tictactoe():\n",
    "    board = [[0 for _ in range(3)] for _ in range(3)]\n",
    "    player = 1\n",
    "    while True:\n",
    "        draw_board(board)\n",
    "        valid_move = False\n",
    "        while not valid_move:\n",
    "            move = input(f\"Player {player}'s turn ('A1', 'B2', etc.): \")\n",
    "            valid_move = place_move_with_label(board, player, move)\n",
    "            if not valid_move:\n",
    "                print(\"Invalid move, try again.\")\n",
    "        status = check_tictactoe(board)\n",
    "        if status != -1:\n",
    "            draw_board(board)\n",
    "            if status == 0:\n",
    "                print(\"The game is a draw.\")\n",
    "            else:\n",
    "                print(f\"Player {status} wins!\")\n",
    "            break\n",
    "        player = 2 if player == 1 else 1\n",
    "\n",
    "play_tictactoe()\n"
   ]
  },
  {
   "cell_type": "markdown",
   "metadata": {},
   "source": [
    "*Exercise 10:* Test that your game works for 5x5 Tic Tac Toe.  "
   ]
  },
  {
   "cell_type": "code",
   "execution_count": 23,
   "metadata": {},
   "outputs": [
    {
     "name": "stdout",
     "output_type": "stream",
     "text": [
      " --- --- --- --- ---\n",
      "|   |   |   |   |   |\n",
      " --- --- --- --- ---\n",
      "|   |   |   |   |   |\n",
      " --- --- --- --- ---\n",
      "|   |   |   |   |   |\n",
      " --- --- --- --- ---\n",
      "|   |   |   |   |   |\n",
      " --- --- --- --- ---\n",
      "|   |   |   |   |   |\n",
      " --- --- --- --- ---\n"
     ]
    },
    {
     "name": "stdin",
     "output_type": "stream",
     "text": [
      "Player 1's turn ('A1', 'E5', etc.):  A1\n"
     ]
    },
    {
     "name": "stdout",
     "output_type": "stream",
     "text": [
      " --- --- --- --- ---\n",
      "| X |   |   |   |   |\n",
      " --- --- --- --- ---\n",
      "|   |   |   |   |   |\n",
      " --- --- --- --- ---\n",
      "|   |   |   |   |   |\n",
      " --- --- --- --- ---\n",
      "|   |   |   |   |   |\n",
      " --- --- --- --- ---\n",
      "|   |   |   |   |   |\n",
      " --- --- --- --- ---\n"
     ]
    },
    {
     "name": "stdin",
     "output_type": "stream",
     "text": [
      "Player 2's turn ('A1', 'E5', etc.):  A2\n"
     ]
    },
    {
     "name": "stdout",
     "output_type": "stream",
     "text": [
      " --- --- --- --- ---\n",
      "| X |   |   |   |   |\n",
      " --- --- --- --- ---\n",
      "| O |   |   |   |   |\n",
      " --- --- --- --- ---\n",
      "|   |   |   |   |   |\n",
      " --- --- --- --- ---\n",
      "|   |   |   |   |   |\n",
      " --- --- --- --- ---\n",
      "|   |   |   |   |   |\n",
      " --- --- --- --- ---\n"
     ]
    },
    {
     "name": "stdin",
     "output_type": "stream",
     "text": [
      "Player 1's turn ('A1', 'E5', etc.):  B1\n"
     ]
    },
    {
     "name": "stdout",
     "output_type": "stream",
     "text": [
      " --- --- --- --- ---\n",
      "| X | X |   |   |   |\n",
      " --- --- --- --- ---\n",
      "| O |   |   |   |   |\n",
      " --- --- --- --- ---\n",
      "|   |   |   |   |   |\n",
      " --- --- --- --- ---\n",
      "|   |   |   |   |   |\n",
      " --- --- --- --- ---\n",
      "|   |   |   |   |   |\n",
      " --- --- --- --- ---\n"
     ]
    },
    {
     "name": "stdin",
     "output_type": "stream",
     "text": [
      "Player 2's turn ('A1', 'E5', etc.):  A5\n"
     ]
    },
    {
     "name": "stdout",
     "output_type": "stream",
     "text": [
      " --- --- --- --- ---\n",
      "| X | X |   |   |   |\n",
      " --- --- --- --- ---\n",
      "| O |   |   |   |   |\n",
      " --- --- --- --- ---\n",
      "|   |   |   |   |   |\n",
      " --- --- --- --- ---\n",
      "|   |   |   |   |   |\n",
      " --- --- --- --- ---\n",
      "| O |   |   |   |   |\n",
      " --- --- --- --- ---\n"
     ]
    },
    {
     "name": "stdin",
     "output_type": "stream",
     "text": [
      "Player 1's turn ('A1', 'E5', etc.):  B3\n"
     ]
    },
    {
     "name": "stdout",
     "output_type": "stream",
     "text": [
      " --- --- --- --- ---\n",
      "| X | X |   |   |   |\n",
      " --- --- --- --- ---\n",
      "| O |   |   |   |   |\n",
      " --- --- --- --- ---\n",
      "|   | X |   |   |   |\n",
      " --- --- --- --- ---\n",
      "|   |   |   |   |   |\n",
      " --- --- --- --- ---\n",
      "| O |   |   |   |   |\n",
      " --- --- --- --- ---\n"
     ]
    },
    {
     "name": "stdin",
     "output_type": "stream",
     "text": [
      "Player 2's turn ('A1', 'E5', etc.):  A3\n"
     ]
    },
    {
     "name": "stdout",
     "output_type": "stream",
     "text": [
      " --- --- --- --- ---\n",
      "| X | X |   |   |   |\n",
      " --- --- --- --- ---\n",
      "| O |   |   |   |   |\n",
      " --- --- --- --- ---\n",
      "| O | X |   |   |   |\n",
      " --- --- --- --- ---\n",
      "|   |   |   |   |   |\n",
      " --- --- --- --- ---\n",
      "| O |   |   |   |   |\n",
      " --- --- --- --- ---\n"
     ]
    },
    {
     "name": "stdin",
     "output_type": "stream",
     "text": [
      "Player 1's turn ('A1', 'E5', etc.):  C1\n"
     ]
    },
    {
     "name": "stdout",
     "output_type": "stream",
     "text": [
      " --- --- --- --- ---\n",
      "| X | X | X |   |   |\n",
      " --- --- --- --- ---\n",
      "| O |   |   |   |   |\n",
      " --- --- --- --- ---\n",
      "| O | X |   |   |   |\n",
      " --- --- --- --- ---\n",
      "|   |   |   |   |   |\n",
      " --- --- --- --- ---\n",
      "| O |   |   |   |   |\n",
      " --- --- --- --- ---\n"
     ]
    },
    {
     "name": "stdin",
     "output_type": "stream",
     "text": [
      "Player 2's turn ('A1', 'E5', etc.):  B4\n"
     ]
    },
    {
     "name": "stdout",
     "output_type": "stream",
     "text": [
      " --- --- --- --- ---\n",
      "| X | X | X |   |   |\n",
      " --- --- --- --- ---\n",
      "| O |   |   |   |   |\n",
      " --- --- --- --- ---\n",
      "| O | X |   |   |   |\n",
      " --- --- --- --- ---\n",
      "|   | O |   |   |   |\n",
      " --- --- --- --- ---\n",
      "| O |   |   |   |   |\n",
      " --- --- --- --- ---\n"
     ]
    },
    {
     "name": "stdin",
     "output_type": "stream",
     "text": [
      "Player 1's turn ('A1', 'E5', etc.):  D1\n"
     ]
    },
    {
     "name": "stdout",
     "output_type": "stream",
     "text": [
      " --- --- --- --- ---\n",
      "| X | X | X | X |   |\n",
      " --- --- --- --- ---\n",
      "| O |   |   |   |   |\n",
      " --- --- --- --- ---\n",
      "| O | X |   |   |   |\n",
      " --- --- --- --- ---\n",
      "|   | O |   |   |   |\n",
      " --- --- --- --- ---\n",
      "| O |   |   |   |   |\n",
      " --- --- --- --- ---\n"
     ]
    },
    {
     "name": "stdin",
     "output_type": "stream",
     "text": [
      "Player 2's turn ('A1', 'E5', etc.):  B2\n"
     ]
    },
    {
     "name": "stdout",
     "output_type": "stream",
     "text": [
      " --- --- --- --- ---\n",
      "| X | X | X | X |   |\n",
      " --- --- --- --- ---\n",
      "| O | O |   |   |   |\n",
      " --- --- --- --- ---\n",
      "| O | X |   |   |   |\n",
      " --- --- --- --- ---\n",
      "|   | O |   |   |   |\n",
      " --- --- --- --- ---\n",
      "| O |   |   |   |   |\n",
      " --- --- --- --- ---\n"
     ]
    },
    {
     "name": "stdin",
     "output_type": "stream",
     "text": [
      "Player 1's turn ('A1', 'E5', etc.):  E1\n"
     ]
    },
    {
     "name": "stdout",
     "output_type": "stream",
     "text": [
      " --- --- --- --- ---\n",
      "| X | X | X | X | X |\n",
      " --- --- --- --- ---\n",
      "| O | O |   |   |   |\n",
      " --- --- --- --- ---\n",
      "| O | X |   |   |   |\n",
      " --- --- --- --- ---\n",
      "|   | O |   |   |   |\n",
      " --- --- --- --- ---\n",
      "| O |   |   |   |   |\n",
      " --- --- --- --- ---\n",
      "Player 1 wins!\n"
     ]
    }
   ],
   "source": [
    "# Test your solution heredef label_to_index(label):\n",
    "def label_to_index(label):\n",
    "    column_map = {'A': 0, 'B': 1, 'C': 2, 'D': 3, 'E': 4}\n",
    "    col = column_map.get(label[0].upper(), -1)\n",
    "    row = int(label[1]) - 1 if label[1].isdigit() and 0 < int(label[1]) <= 5 else -1\n",
    "    return row, col\n",
    "\n",
    "# No changes needed in place_move and place_move_with_label functions.\n",
    "\n",
    "def draw_board(board):\n",
    "    for row in board:\n",
    "        print(\" ---\" * len(row))\n",
    "        print(\"|\" + \"|\".join(f\" {(' ' if cell == 0 else 'X' if cell == 1 else 'O')} \" for cell in row) + \"|\")\n",
    "    print(\" ---\" * len(board[0]))\n",
    "\n",
    "# No changes are required for check_tictactoe function as it dynamically checks all rows, columns, and diagonals.\n",
    "\n",
    "def play_tictactoe():\n",
    "    board = [[0 for _ in range(5)] for _ in range(5)]  # Initialize a 5x5 board\n",
    "    player = 1\n",
    "    while True:\n",
    "        draw_board(board)\n",
    "        valid_move = False\n",
    "        while not valid_move:\n",
    "            move = input(f\"Player {player}'s turn ('A1', 'E5', etc.): \")\n",
    "            valid_move = place_move_with_label(board, player, move)\n",
    "            if not valid_move:\n",
    "                print(\"Invalid move, try again.\")\n",
    "        status = check_tictactoe(board)\n",
    "        if status != -1:\n",
    "            draw_board(board)\n",
    "            if status == 0:\n",
    "                print(\"The game is a draw.\")\n",
    "            else:\n",
    "                print(f\"Player {status} wins!\")\n",
    "            break\n",
    "        player = 2 if player == 1 else 1\n",
    "\n",
    "play_tictactoe()\n",
    "\n"
   ]
  },
  {
   "cell_type": "markdown",
   "metadata": {},
   "source": [
    "*Exercise 11:* (Advanced / Challenge) Develop a version of the game where one player is the computer. Note that you don't need to do an extensive seach for the best move. You can have the computer simply protect against loosing and otherwise try to win with straight or diagonal patterns."
   ]
  },
  {
   "cell_type": "code",
   "execution_count": 26,
   "metadata": {},
   "outputs": [
    {
     "name": "stdout",
     "output_type": "stream",
     "text": [
      " --- --- ---\n",
      "|   |   |   |\n",
      " --- --- ---\n",
      "|   |   |   |\n",
      " --- --- ---\n",
      "|   |   |   |\n",
      " --- --- ---\n"
     ]
    },
    {
     "name": "stdin",
     "output_type": "stream",
     "text": [
      "Player 1's turn ('A1', 'B2', etc.):  A1\n"
     ]
    },
    {
     "name": "stdout",
     "output_type": "stream",
     "text": [
      " --- --- ---\n",
      "| X |   |   |\n",
      " --- --- ---\n",
      "|   |   |   |\n",
      " --- --- ---\n",
      "|   |   |   |\n",
      " --- --- ---\n",
      "Computer's turn...\n",
      " --- --- ---\n",
      "| X |   |   |\n",
      " --- --- ---\n",
      "|   |   |   |\n",
      " --- --- ---\n",
      "|   |   | O |\n",
      " --- --- ---\n"
     ]
    },
    {
     "name": "stdin",
     "output_type": "stream",
     "text": [
      "Player 1's turn ('A1', 'B2', etc.):  C1\n"
     ]
    },
    {
     "name": "stdout",
     "output_type": "stream",
     "text": [
      " --- --- ---\n",
      "| X |   | X |\n",
      " --- --- ---\n",
      "|   |   |   |\n",
      " --- --- ---\n",
      "|   |   | O |\n",
      " --- --- ---\n",
      "Computer's turn...\n",
      " --- --- ---\n",
      "| X | O | X |\n",
      " --- --- ---\n",
      "|   |   |   |\n",
      " --- --- ---\n",
      "|   |   | O |\n",
      " --- --- ---\n"
     ]
    },
    {
     "name": "stdin",
     "output_type": "stream",
     "text": [
      "Player 1's turn ('A1', 'B2', etc.):  A3\n"
     ]
    },
    {
     "name": "stdout",
     "output_type": "stream",
     "text": [
      " --- --- ---\n",
      "| X | O | X |\n",
      " --- --- ---\n",
      "|   |   |   |\n",
      " --- --- ---\n",
      "| X |   | O |\n",
      " --- --- ---\n",
      "Computer's turn...\n",
      " --- --- ---\n",
      "| X | O | X |\n",
      " --- --- ---\n",
      "| O |   |   |\n",
      " --- --- ---\n",
      "| X |   | O |\n",
      " --- --- ---\n"
     ]
    },
    {
     "name": "stdin",
     "output_type": "stream",
     "text": [
      "Player 1's turn ('A1', 'B2', etc.):  B2\n"
     ]
    },
    {
     "name": "stdout",
     "output_type": "stream",
     "text": [
      " --- --- ---\n",
      "| X | O | X |\n",
      " --- --- ---\n",
      "| O | X |   |\n",
      " --- --- ---\n",
      "| X |   | O |\n",
      " --- --- ---\n",
      "Player 1 wins!\n"
     ]
    }
   ],
   "source": [
    "# Write you solution here\n",
    "\n",
    "import random\n",
    "\n",
    "def label_to_index(label):\n",
    "    column_map = {'A': 0, 'B': 1, 'C': 2}\n",
    "    col = column_map.get(label[0].upper(), -1)\n",
    "    row = int(label[1]) - 1 if label[1].isdigit() and 0 < int(label[1]) <= 3 else -1\n",
    "    return row, col\n",
    "\n",
    "def place_move(game_board, player_number, x, y):\n",
    "    if 0 <= x < len(game_board) and 0 <= y < len(game_board[0]) and game_board[x][y] == 0:\n",
    "        game_board[x][y] = 1 if player_number == 1 else 2\n",
    "        return True\n",
    "    return False\n",
    "\n",
    "def draw_board(board):\n",
    "    for row in board:\n",
    "        print(\" ---\" * len(row))\n",
    "        print(\"|\" + \"|\".join(f\" {(' ' if cell == 0 else 'X' if cell == 1 else 'O')} \" for cell in row) + \"|\")\n",
    "    print(\" ---\" * len(board[0]))\n",
    "\n",
    "def check_tictactoe(matrix):\n",
    "    n = len(matrix)\n",
    "    lines = []\n",
    "    for i in range(n):\n",
    "        lines.append(matrix[i])\n",
    "        lines.append([matrix[j][i] for j in range(n)])\n",
    "    lines.append([matrix[i][i] for i in range(n)])\n",
    "    lines.append([matrix[i][n-i-1] for i in range(n)])\n",
    "    for line in lines:\n",
    "        if all(cell == 1 for cell in line):\n",
    "            return 1\n",
    "        if all(cell == 2 for cell in line):\n",
    "            return 2\n",
    "    if all(cell != 0 for row in matrix for cell in row):\n",
    "        return 0\n",
    "    return -1\n",
    "\n",
    "def find_winning_move(board, player):\n",
    "    for i in range(len(board)):\n",
    "        for j in range(len(board[0])):\n",
    "            if board[i][j] == 0:\n",
    "                board[i][j] = player\n",
    "                if check_tictactoe(board) == player:\n",
    "                    board[i][j] = 0\n",
    "                    return i, j\n",
    "                board[i][j] = 0\n",
    "    return None\n",
    "\n",
    "def computer_move(board, player):\n",
    "    move = find_winning_move(board, player)\n",
    "    if move:\n",
    "        return move\n",
    "    opponent = 1 if player == 2 else 2\n",
    "    move = find_winning_move(board, opponent)\n",
    "    if move:\n",
    "        return move\n",
    "    empty_spots = [(i, j) for i in range(len(board)) for j in range(len(board[0])) if board[i][j] == 0]\n",
    "    return random.choice(empty_spots) if empty_spots else None\n",
    "\n",
    "def play_tictactoe_with_computer():\n",
    "    board = [[0 for _ in range(3)] for _ in range(3)]\n",
    "    player = 1\n",
    "    while True:\n",
    "        draw_board(board)\n",
    "        if player == 1:\n",
    "            valid_move = False\n",
    "            while not valid_move:\n",
    "                move = input(\"Player 1's turn ('A1', 'B2', etc.): \")\n",
    "                row, col = label_to_index(move)\n",
    "                valid_move = place_move(board, player, row, col)\n",
    "                if not valid_move:\n",
    "                    print(\"Invalid move, try again.\")\n",
    "        else:\n",
    "            print(\"Computer's turn...\")\n",
    "            row, col = computer_move(board, player)\n",
    "            place_move(board, player, row, col)\n",
    "        \n",
    "        status = check_tictactoe(board)\n",
    "        if status != -1:\n",
    "            draw_board(board)\n",
    "            if status == 0:\n",
    "                print(\"The game is a draw.\")\n",
    "            else:\n",
    "                print(f\"Player {status} wins!\" if status == 1 else \"Computer wins!\")\n",
    "            break\n",
    "        \n",
    "        player = 2 if player == 1 else 1\n",
    "\n",
    "play_tictactoe_with_computer()\n"
   ]
  },
  {
   "cell_type": "code",
   "execution_count": 27,
   "metadata": {},
   "outputs": [],
   "source": [
    "# Test your solution here\n",
    "import random\n",
    "\n",
    "def label_to_index(label):\n",
    "    column_map = {'A': 0, 'B': 1, 'C': 2}\n",
    "    col = column_map.get(label[0].upper(), -1)\n",
    "    row = int(label[1]) - 1 if label[1].isdigit() and 0 < int(label[1]) <= 3 else -1\n",
    "    return row, col\n",
    "\n",
    "def place_move(game_board, player_number, x, y):\n",
    "    if 0 <= x < len(game_board) and 0 <= y < len(game_board[0]) and game_board[x][y] == 0:\n",
    "        game_board[x][y] = 1 if player_number == 1 else 2\n",
    "        return True\n",
    "    return False\n",
    "\n",
    "def draw_board(board):\n",
    "    for row in board:\n",
    "        print(\" ---\" * len(row))\n",
    "        print(\"|\" + \"|\".join(f\" {(' ' if cell == 0 else 'X' if cell == 1 else 'O')} \" for cell in row) + \"|\")\n",
    "    print(\" ---\" * len(board[0]))\n",
    "\n",
    "def check_tictactoe(matrix):\n",
    "    n = len(matrix)\n",
    "    lines = []\n",
    "    for i in range(n):\n",
    "        lines.append(matrix[i])\n",
    "        lines.append([matrix[j][i] for j in range(n)])\n",
    "    lines.append([matrix[i][i] for i in range(n)])\n",
    "    lines.append([matrix[i][n-i-1] for i in range(n)])\n",
    "    for line in lines:\n",
    "        if all(cell == 1 for cell in line):\n",
    "            return 1\n",
    "        if all(cell == 2 for cell in line):\n",
    "            return 2\n",
    "    if all(cell != 0 for row in matrix for cell in row):\n",
    "        return 0\n",
    "    return -1\n",
    "\n",
    "def find_winning_move(board, player):\n",
    "    for i in range(len(board)):\n",
    "        for j in range(len(board[0])):\n",
    "            if board[i][j] == 0:\n",
    "                board[i][j] = player\n",
    "                if check_tictactoe(board) == player:\n",
    "                    board[i][j] = 0\n",
    "                    return i, j\n",
    "                board[i][j] = 0\n",
    "    return None\n",
    "\n",
    "def computer_move(board, player):\n",
    "    move = find_winning_move(board, player)\n",
    "    if move:\n",
    "        return move\n",
    "    opponent = 1 if player == 2 else 2\n",
    "    move = find_winning_move(board, opponent)\n",
    "    if move:\n",
    "        return move\n",
    "    empty_spots = [(i, j) for i in range(len(board)) for j in range(len(board[0])) if board[i][j] == 0]\n",
    "    return random.choice(empty_spots) if empty_spots else None\n",
    "\n",
    "def play_tictactoe_with_computer():\n",
    "    board = [[0 for _ in range(3)] for _ in range(3)]\n",
    "    player = 1\n",
    "    while True:\n",
    "        draw_board(board)\n",
    "        if player == 1:\n",
    "            valid_move = False\n",
    "            while not valid_move:\n",
    "                move = input(\"Player 1's turn ('A1', 'B2', etc.): \")\n",
    "                row, col = label_to_index(move)\n",
    "                valid_move = place_move(board, player, row, col)\n",
    "                if not valid_move:\n",
    "                    print(\"Invalid move, try again.\")\n",
    "        else:\n",
    "            print(\"Computer's turn...\")\n",
    "            row, col = computer_move(board, player)\n",
    "            place_move(board, player, row, col)\n",
    "        \n",
    "        status = check_tictactoe(board)\n",
    "        if status != -1:\n",
    "            draw_board(board)\n",
    "            if status == 0:\n",
    "                print(\"The game is a draw.\")\n",
    "            else:\n",
    "                print(f\"Player {status} wins!\" if status == 1 else \"Computer wins!\")\n",
    "            break\n",
    "        \n",
    "        player = 2 if player == 1 else 1\n",
    "\n",
    "play_tictactoe_with_computer()\n"
   ]
  },
  {
   "cell_type": "code",
   "execution_count": null,
   "metadata": {},
   "outputs": [],
   "source": []
  }
 ],
 "metadata": {
  "kernelspec": {
   "display_name": "Python 3 (ipykernel)",
   "language": "python",
   "name": "python3"
  },
  "language_info": {
   "codemirror_mode": {
    "name": "ipython",
    "version": 3
   },
   "file_extension": ".py",
   "mimetype": "text/x-python",
   "name": "python",
   "nbconvert_exporter": "python",
   "pygments_lexer": "ipython3",
   "version": "3.11.8"
  }
 },
 "nbformat": 4,
 "nbformat_minor": 4
}
