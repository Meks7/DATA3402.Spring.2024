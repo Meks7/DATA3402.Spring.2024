{
 "cells": [
  {
   "cell_type": "markdown",
   "metadata": {},
   "source": [
    "# Lab 3\n",
    "\n",
    "In this lab we will become familiar with distributions, histograms, and functional programming. Do not use numpy or any other library for this lab.\n",
    "\n",
    "Before that, lets get setup homework submission and submit your previous lab.  \n",
    "\n",
    "## Working on the Command-line.\n",
    "\n",
    "It is important for you to learn to work on the command line and to be familiar with the Unix environment (e.g. Linux, Mac OS, or Windows Linux Subsystem). We'll go over working on the command-line in detail later in the course.\n",
    "\n",
    "You are required to submit your work in this course via GitHub. Today in class, you will setup everything on the command-line.\n",
    "\n",
    "### Command-line basics\n",
    "\n",
    "There is plenty of material online that will help you figure out how to do various tasks on the command line. Commands you may need to know today:\n",
    "\n",
    "* `ls`: lists the contents of the current directory.\n",
    "* `pwd`: prints the path of the current directory.\n",
    "* `cd <directory>`: changes your current directory to the specified directory.\n",
    "* `cd ..`: changes current directory to the previous directory. Basically steps out of the current directory to the directory containing the current directory.\n",
    "* `mkdir <directory>`: create a new directory with the specified name.\n",
    "* `rmdir <directory>`: removes the specified directory. Note it has to be empty.\n",
    "* `rm <filename>`: deletes the specified file.\n",
    "* `mv <filename 1> <filename 1>`: Moves or renames a file.\n",
    "* `cp <filename 1> <filename 2>`: copies an file. If you just provide a path to a directory, it copies the file into that directory with the same filename. If you specifiy a new filename, the copy has a new name. For example `cp File.1.txt File.2.txt` creates a copy of `File.1.txt` with the name `File.2.txt`. Meanwhile `cp File.1.txt my_directory`, where `my_directory` is a directory, creates a copy of `File.1.txt` in directory `my_directory` with the name `File.1.txt`.\n",
    "\n",
    "For reference, here are some example resources I found by googling:\n",
    "\n",
    "* Paths and Wildcards: https://www.warp.dev/terminus/linux-wildcards\n",
    "* Basic commands like copy: https://kb.iu.edu/d/afsk\n",
    "* General introduction to shell: https://github-pages.ucl.ac.uk/RCPSTrainingMaterials/HPCandHTCusingLegion/2_intro_to_shell.html\n",
    "* Manual pages: https://www.geeksforgeeks.org/linux-man-page-entries-different-types/?ref=ml_lbp\n",
    "* Chaining commands: https://www.geeksforgeeks.org/chaining-commands-in-linux/?ref=ml_lbp\n",
    "* Piping: https://www.geeksforgeeks.org/piping-in-unix-or-linux/\n",
    "* Using sed: https://www.geeksforgeeks.org/sed-command-linux-set-2/?ref=ml_lbp\n",
    "* Various Unix commands: https://www.geeksforgeeks.org/linux-commands/?ref=lbp\n",
    "* Cheat sheets:\n",
    "    * https://www.stationx.net/unix-commands-cheat-sheet/\n",
    "    * https://cheatography.com/davechild/cheat-sheets/linux-command-line/\n",
    "    * https://www.theknowledgeacademy.com/blog/unix-commands-cheat-sheet/\n",
    "    \n",
    "These aren't necessarily the best resources. Feel free to search for better ones. Also, don't forget that Unix has built-in manual pages for all of its commands. Just type `man <command>` at the command prompt. Use the space-bar to scroll through the documentation and \"q\" to exit.\n",
    "\n",
    "\n",
    "### Setup and Submission\n",
    "\n",
    "Our course repository is public. The instructions here aim to have you setup a fork of the course repository. Unfortunately because you are forking a public repo, your fork will have to be public also. \n",
    "\n",
    "You should be familiar with git from the first semester of this course. I assume that you all have github accounts and have setup things to be able to [push to github using ssh](https://docs.github.com/en/github/authenticating-to-github/connecting-to-github-with-ssh). The instuctions here lead you to:\n",
    "\n",
    "We'll overview what you will do before going through step by step instructions.\n",
    "\n",
    "1. Setup:\n",
    "    1. Fork the class repository. Some directions in [fork-a-repo](https://docs.github.com/en/github/getting-started-with-github/fork-a-repo).\n",
    "    1. Create a directory on your personal system where you will keep all course materials.\n",
    "    1. In that directory, clone your fork of the repository.\n",
    "    1. Using `git remote`, set the upstream to be the class repo, so you can pull from the class and push to your fork.\n",
    "\n",
    "1. Submission:\n",
    "    1. Copy your solutions into the appropriate directory (e.g. into `Labs/Lab.2/`) and with appropriate filename `Lab.2.solution.ipynb'.\n",
    "    1. Commit / push your solutions.\n",
    "    1. Grant access to course instructors.\n",
    "\n",
    "Below are step by step instructions with examples (including example directory naming convention). Feel free to modify things as you see fit. \n",
    "\n",
    "#### Setup\n",
    "You should only need to follow this instructions once. Here are some useful git commands:\n",
    "\n",
    "* Git help: `git help`\n",
    "* Git remote help: `git help remote`\n",
    "* Check remote status: `git remote -v`\n",
    "* Add a remote: `git remote add <stream name> <repo URL>`\n",
    "* Add a remove: `git remote remove <stream name>`\n",
    "\n",
    "Steps:\n",
    "1. In a browser, log into GitHub and navigate to the [course repository](https://github.com/UTA-DataScience/DATA3402.Spring.2024).\n",
    "1. On the top right of the page, press the fork button to create a new fork into your own GitHub account.\n",
    "1. After successful fork, you should find the browser showing your fork of the course repository. Use the green \"Code\" button to copy path to the repo into your the clipboard of your computer.\n",
    "1. Open a shell on your personal computer.\n",
    "1. If you have not done so already, create a new directory/folder where you will keep all course material to navigate to it. For example: `mkdir Data-3402` and `cd Data-3402`.\n",
    "1. Clone your fork of the repository using `git clone` followed by the path you copied into your clipboard. (copy/paste)\n",
    "1. Paste the URL to your fork in the worksheet for the TAs and instructors.\n",
    "1. Now go into the directory of your clone (`cd DATA3402.Spring.2024`).\n",
    "1. Type `git remote -v` to see the current setup for fetch and pull.\n",
    "1. Note the URL you see. This should be the same as what you used for your clone for both push and fetch.\n",
    "1. Delete the origin remote using `git remote remove origin`.\n",
    "1. Add the course repo as your remote using `git remote add origin https://github.com/UTA-DataScience/DATA3402.Spring.2024.git`.\n",
    "1. Change the push to point to your fork. This means you will need the URL to your clone we copied earlier and confirmed as the original origin. The command will look something like: `git remote set-url --push origin  https://github.com/XXXXXX/DATA3402.Spring.2024.git`, where XXXXX is your username on GitHub.\n",
    "1. Note that if you setup everything correctly, you now should be able to do `git pull` to get updates from the course repo, and do `git push` to push your commits into your own fork.\n",
    "\n",
    "### Submission\n",
    "These instructions outline how you submit files. Some useful commands:\n",
    "* To add a file to local repository: `git add <file>`.\n",
    "* To commit all changed files into local repository: `git -a -m \"A message\"`. You need to provide some comment when you commit. \n",
    "* To push the commited files from the local repository to GitHub: `git push`.\n",
    "* To get updates from GitHub: `git pull`.\n",
    "\n",
    "Steps:\n",
    "1. To submit your labs, navigate to your clone of your fork of the course repository. \n",
    "1. Use `git pull` to make sure you have the latest updates. \n",
    "1. Make sure your copy of the lab your are working on is in the appropriate place in this clone. That means if you have the file elsewhere, copy it to the same directory in your clone of your fork. \n",
    "1. Note that in order to avoid future conflicts, you should always name your solution differently than the original file in the class repo. For example if your file is still named `Lab.2.ipynb` you should rename it using the `mv` command: `mv Lab.2.ipynb Lab.2.solution.ipynb`. \n",
    "1. Add and files you wish to submit into the repo. For example: `git add Labs/Lab.2/Lab.2.solution.ipynb`\n",
    "1. Commit any changes: `git commit -a -m \"Lab 2 updates\"`\n",
    "1. Push your changes: `git push`\n",
    "1. Check on github website that your solutions have been properly submitted.\n",
    "\n",
    "Before you leave the session today, submit your Lab.2 solution as is now to make sure you can do it. If you need to work further on your lab, navigate jupyter to the copy of the lab you just submitted and work there. Once done, repeat the commit and push commands to submit your updated solution. Note that lab 2 is due by midnight today (Friday 2/9/2024).\n"
   ]
  },
  {
   "cell_type": "markdown",
   "metadata": {},
   "source": [
    "### Uniform Distribution\n",
    "Lets start with generating some fake random data. You can get a random number between 0 and 1 using the python random module as follow:"
   ]
  },
  {
   "cell_type": "code",
   "execution_count": null,
   "metadata": {},
   "outputs": [],
   "source": [
    "import random\n",
    "x=random.random()\n",
    "print(\"The Value of x is\", x)"
   ]
  },
  {
   "cell_type": "markdown",
   "metadata": {},
   "source": [
    "Everytime you call random, you will get a new number.\n",
    "\n",
    "*Exercise 1:* Using random, write a function `generate_uniform(N, mymin, mymax)`, that returns a python list containing N random numbers between specified minimum and maximum value. Note that you may want to quickly work out on paper how to turn numbers between 0 and 1 to between other values. "
   ]
  },
  {
   "cell_type": "code",
   "execution_count": null,
   "metadata": {},
   "outputs": [],
   "source": [
    "# Skeleton\n",
    "def generate_uniform(N,x_min,x_max):\n",
    "    out = []\n",
    "    ### BEGIN SOLUTION\n",
    "\n",
    "    # Fill in your solution here\n",
    "    for _ in range(N):\n",
    "        random_number = x_min + (random.random()*(x_max - x_min))\n",
    "        out.append(random_number)\n",
    "        \n",
    "    \n",
    "    ### END SOLUTION\n",
    "    return out"
   ]
  },
  {
   "cell_type": "code",
   "execution_count": 6,
   "metadata": {},
   "outputs": [
    {
     "name": "stdout",
     "output_type": "stream",
     "text": [
      "Data Type: <class 'list'>\n",
      "Data Length: 1000\n",
      "Type of Data Contents: <class 'float'>\n",
      "Data Minimum: -9.989249522125442\n",
      "Data Maximum: 9.982180845600105\n"
     ]
    }
   ],
   "source": [
    "import random\n",
    "x=random.random()\n",
    "\n",
    "# Skeleton\n",
    "def generate_uniform(N,x_min,x_max):\n",
    "    out = []\n",
    "    ### BEGIN SOLUTION\n",
    "\n",
    "    # Fill in your solution here\n",
    "    for _ in range(N):\n",
    "        random_number = x_min + (random.random()*(x_max - x_min))\n",
    "        out.append(random_number)\n",
    "        \n",
    "    \n",
    "    ### END SOLUTION\n",
    "    return out\n",
    "    \n",
    "# Test your solution here\n",
    "data=generate_uniform(1000,-10,10)\n",
    "print (\"Data Type:\", type(data))\n",
    "print (\"Data Length:\", len(data))\n",
    "if len(data)>0: \n",
    "    print (\"Type of Data Contents:\", type(data[0]))\n",
    "    print (\"Data Minimum:\", min(data))\n",
    "    print (\"Data Maximum:\", max(data))\n",
    "\n",
    "\n"
   ]
  },
  {
   "cell_type": "markdown",
   "metadata": {},
   "source": [
    "*Exercise 2a:* \n",
    "Write a function that computes the mean of values in a list. Recall the equation for the mean of a random variable $\\bf{x}$ computed on a data set of $n$ values $\\{ x_i \\} = \\{x_1, x_2, ..., x_n\\}$  is ${\\bf\\bar{x}} = \\frac{1}{n} \\sum_i^n x_i$."
   ]
  },
  {
   "cell_type": "code",
   "execution_count": 1,
   "metadata": {},
   "outputs": [],
   "source": [
    "# Skeleton\n",
    "def mean(Data):\n",
    "    m=0.\n",
    "    \n",
    "    ### BEGIN SOLUTION\n",
    "    if len(Data) > 0:\n",
    "        total = sum(Data)\n",
    "        count = len(Data)\n",
    "        m = total/count\n",
    "\n",
    "    # Fill in your solution here        \n",
    "    \n",
    "    ### END SOLUTION\n",
    "    \n",
    "    return m"
   ]
  },
  {
   "cell_type": "code",
   "execution_count": 7,
   "metadata": {},
   "outputs": [
    {
     "name": "stdout",
     "output_type": "stream",
     "text": [
      "Mean of Data: -0.002880794833562117\n"
     ]
    }
   ],
   "source": [
    "# Test your solution here\n",
    "\n",
    "# Skeleton\n",
    "def mean(Data):\n",
    "    m=0.\n",
    "    \n",
    "    ### BEGIN SOLUTION\n",
    "    if len(Data) > 0:\n",
    "        total = sum(Data)\n",
    "        count = len(Data)\n",
    "        m = total/count\n",
    "\n",
    "    # Fill in your solution here        \n",
    "    \n",
    "    ### END SOLUTION\n",
    "    \n",
    "    return m\n",
    "    \n",
    "print (\"Mean of Data:\", mean(data))"
   ]
  },
  {
   "cell_type": "markdown",
   "metadata": {},
   "source": [
    "*Exercise 2b:* \n",
    "Write a function that computes the variance of values in a list. Recall the equation for the variance of a random variable $\\bf{x}$ computed on a data set of $n$ values $\\{ x_i \\} = \\{x_1, x_2, ..., x_n\\}$  is ${\\bf\\langle x \\rangle} = \\frac{1}{n} \\sum_i^n (x_i - {\\bf\\bar{x}})$."
   ]
  },
  {
   "cell_type": "code",
   "execution_count": null,
   "metadata": {},
   "outputs": [],
   "source": [
    "# Skeleton\n",
    "def variance(Data):\n",
    "    m=0.\n",
    "    \n",
    "    ### BEGIN SOLUTION\n",
    "    if len(Data) > 0:\n",
    "        total = sum(Data)\n",
    "        count = len(Data)\n",
    "        mean = total/count\n",
    "        diff = sum((x - mean) ** 2 for x in Data)\n",
    "        x = diff/count\n",
    "\n",
    "    # Fill in your solution here        \n",
    "    \n",
    "    ### END SOLUTION\n",
    "    \n",
    "    return m"
   ]
  },
  {
   "cell_type": "code",
   "execution_count": 8,
   "metadata": {},
   "outputs": [
    {
     "name": "stdout",
     "output_type": "stream",
     "text": [
      "Variance of Data: 0.0\n"
     ]
    }
   ],
   "source": [
    "# Test your solution here\n",
    "\n",
    "# Skeleton\n",
    "def variance(Data):\n",
    "    m=0.\n",
    "    \n",
    "    ### BEGIN SOLUTION\n",
    "    if len(Data) > 0:\n",
    "        total = sum(Data)\n",
    "        count = len(Data)\n",
    "        mean = total/count\n",
    "        diff = sum((x - mean) ** 2 for x in Data)\n",
    "        x = diff/count\n",
    "\n",
    "    # Fill in your solution here        \n",
    "    \n",
    "    ### END SOLUTION\n",
    "    \n",
    "    return m\n",
    "    \n",
    "print (\"Variance of Data:\", variance(data))"
   ]
  },
  {
   "cell_type": "markdown",
   "metadata": {},
   "source": [
    "## Histogramming"
   ]
  },
  {
   "cell_type": "markdown",
   "metadata": {},
   "source": [
    "*Exercise 3:* Write a function that bins the data so that you can create a histogram. An example of how to implement histogramming is the following logic:\n",
    "\n",
    "* User inputs a list of values `x` and optionally `n_bins` which defaults to 10.\n",
    "* If not supplied, find the minimum and maximum (`x_min`,`x_max`) of the values in x.\n",
    "* Determine the bin size (`bin_size`) by dividing the range of the function by the number of bins.\n",
    "* Create an empty list of zeros of size `n_bins`, call it `hist`.\n",
    "* Loop over the values in `x`\n",
    "    * Loop over the values in `hist` with index `i`:\n",
    "        * If x is between `x_min+i*bin_size` and `x_min+(i+1)*bin_size`, increment `hist[i].` \n",
    "        * For efficiency, try to use continue to goto the next bin and data point.\n",
    "* Return `hist` and the list corresponding of the bin edges (i.e. of `x_min+i*bin_size`).    "
   ]
  },
  {
   "cell_type": "code",
   "execution_count": null,
   "metadata": {},
   "outputs": [],
   "source": [
    "# Solution\n",
    "def histogram(x,n_bins=10,x_min=None,x_max=None):\n",
    "    ### BEGIN SOLUTION\n",
    "\n",
    "    # Fill in your solution here\n",
    "    if x_min is None:\n",
    "        x_min = min(x)\n",
    "    if x_max is None:\n",
    "        x_max = max(x)\n",
    "\n",
    "    bin_size = (x_max - x_min)/n_bins\n",
    "    hist = [0] * n_bins\n",
    "    bin_edges = [x_min + i*bin_size for i in range(n_bins + 1)]\n",
    "\n",
    "    for value in x:\n",
    "        for i in range(n_bins):\n",
    "            if x_min + i*bin_size <= value < x_min + (i+1)*bin_size:\n",
    "                hist[i] += 1\n",
    "                break\n",
    "    \n",
    "    ### END SOLUTION\n",
    "\n",
    "    return hist,bin_edges"
   ]
  },
  {
   "cell_type": "code",
   "execution_count": 9,
   "metadata": {},
   "outputs": [
    {
     "name": "stdout",
     "output_type": "stream",
     "text": [
      "[10, 10, 6, 8, 8, 11, 6, 7, 10, 12, 12, 9, 11, 8, 7, 12, 8, 11, 9, 14, 13, 11, 12, 5, 10, 17, 13, 18, 15, 20, 7, 4, 9, 3, 11, 8, 15, 8, 13, 10, 12, 13, 6, 9, 17, 13, 1, 8, 9, 9, 10, 15, 9, 4, 13, 11, 13, 9, 10, 6, 12, 9, 12, 8, 12, 7, 10, 10, 7, 13, 9, 5, 9, 11, 5, 3, 13, 6, 11, 9, 10, 10, 9, 17, 5, 10, 10, 8, 5, 15, 13, 8, 16, 8, 8, 7, 14, 11, 10, 16]\n"
     ]
    }
   ],
   "source": [
    "# Test your solution here\n",
    "# Solution\n",
    "def histogram(x,n_bins=10,x_min=None,x_max=None):\n",
    "    ### BEGIN SOLUTION\n",
    "\n",
    "    # Fill in your solution here\n",
    "    if x_min is None:\n",
    "        x_min = min(x)\n",
    "    if x_max is None:\n",
    "        x_max = max(x)\n",
    "\n",
    "    bin_size = (x_max - x_min)/n_bins\n",
    "    hist = [0] * n_bins\n",
    "    bin_edges = [x_min + i*bin_size for i in range(n_bins + 1)]\n",
    "\n",
    "    for value in x:\n",
    "        for i in range(n_bins):\n",
    "            if x_min + i*bin_size <= value < x_min + (i+1)*bin_size:\n",
    "                hist[i] += 1\n",
    "                break\n",
    "    \n",
    "    ### END SOLUTION\n",
    "\n",
    "    return hist,bin_edges\n",
    "    \n",
    "h,b=histogram(data,100)\n",
    "print(h)"
   ]
  },
  {
   "cell_type": "markdown",
   "metadata": {},
   "source": [
    "*Exercise 4:* Write a function that uses the histogram function in the previous exercise to create a text-based \"graph\". For example the output could look like the following:\n",
    "```\n",
    "[  0,  1] : ######\n",
    "[  1,  2] : #####\n",
    "[  2,  3] : ######\n",
    "[  3,  4] : ####\n",
    "[  4,  5] : ####\n",
    "[  5,  6] : ######\n",
    "[  6,  7] : #####\n",
    "[  7,  8] : ######\n",
    "[  8,  9] : ####\n",
    "[  9, 10] : #####\n",
    "```\n",
    "\n",
    "Where each line corresponds to a bin and the number of `#`'s are proportional to the value of the data in the bin. "
   ]
  },
  {
   "cell_type": "code",
   "execution_count": null,
   "metadata": {},
   "outputs": [],
   "source": [
    "# Solution\n",
    "def draw_histogram(x,n_bins,x_min=None,x_max=None,character=\"#\",max_character_per_line=20):\n",
    "    ### BEGIN SOLUTION\n",
    "\n",
    "    # Fill in your solution here     \n",
    "\n",
    "    hist, bin_edges = histogram(x, n_bins, x_min, x_max)\n",
    "    max_count = max(hist)\n",
    "\n",
    "    for i in range(n_bins):\n",
    "        hash_count = int((hist[i] / max_count) * max_character_per_line) if max_count > 0 else 0\n",
    "        print(f\"[{bin_edges[i]:>5.2f}, {bin_edges[i+1]:>5.2f}] : {character * hash_count}\")\n",
    "    \n",
    "    ### END SOLUTION\n",
    "\n",
    "    return hist,bin_edges"
   ]
  },
  {
   "cell_type": "code",
   "execution_count": 11,
   "metadata": {},
   "outputs": [
    {
     "name": "stdout",
     "output_type": "stream",
     "text": [
      "[-9.99, -8.99] : ##########\n",
      "[-8.99, -7.99] : ###########\n",
      "[-7.99, -6.99] : ###########\n",
      "[-6.99, -5.99] : #############\n",
      "[-5.99, -5.00] : ############\n",
      "[-5.00, -4.00] : ####################\n",
      "[-4.00, -3.00] : ########\n",
      "[-3.00, -2.00] : #############\n",
      "[-2.00, -1.00] : #############\n",
      "[-1.00, -0.00] : #########\n",
      "[-0.00,  1.00] : ############\n",
      "[ 1.00,  1.99] : ###########\n",
      "[ 1.99,  2.99] : ############\n",
      "[ 2.99,  3.99] : ###########\n",
      "[ 3.99,  4.99] : #########\n",
      "[ 4.99,  5.99] : ##########\n",
      "[ 5.99,  6.99] : ############\n",
      "[ 6.99,  7.99] : ###########\n",
      "[ 7.99,  8.98] : ############\n",
      "[ 8.98,  9.98] : #############\n"
     ]
    }
   ],
   "source": [
    "# Test your solution here\n",
    "# Solution\n",
    "\n",
    "def draw_histogram(x,n_bins,x_min=None,x_max=None,character=\"#\",max_character_per_line=20):\n",
    "    ### BEGIN SOLUTION\n",
    "\n",
    "    # Fill in your solution here     \n",
    "\n",
    "    hist, bin_edges = histogram(x, n_bins, x_min, x_max)\n",
    "    max_count = max(hist)\n",
    "\n",
    "    for i in range(n_bins):\n",
    "        hash_count = int((hist[i] / max_count) * max_character_per_line) if max_count > 0 else 0\n",
    "        print(f\"[{bin_edges[i]:>5.2f}, {bin_edges[i+1]:>5.2f}] : {character * hash_count}\")\n",
    "    \n",
    "    ### END SOLUTION\n",
    "\n",
    "    return hist,bin_edges\n",
    "    \n",
    "h,b=draw_histogram(data,20)"
   ]
  },
  {
   "cell_type": "markdown",
   "metadata": {},
   "source": [
    "## Functional Programming\n",
    "\n",
    "*Exercise 5:* Write a function the applies a booling function (that returns true/false) to every element in data, and return a list of indices of elements where the result was true. Use this function to find the indices of entries greater than 0.5. "
   ]
  },
  {
   "cell_type": "code",
   "execution_count": null,
   "metadata": {},
   "outputs": [],
   "source": [
    "def where(mylist,myfunc):\n",
    "    out= []\n",
    "    \n",
    "    ### BEGIN SOLUTION\n",
    "\n",
    "    # Fill in your solution here  \n",
    "\n",
    "    for index, value in enumerate(mylist):\n",
    "        if myfunc(value):\n",
    "            out.append(index) \n",
    "    \n",
    "    ### END SOLUTION\n",
    "    \n",
    "    return out"
   ]
  },
  {
   "cell_type": "code",
   "execution_count": 13,
   "metadata": {},
   "outputs": [
    {
     "name": "stdout",
     "output_type": "stream",
     "text": [
      "[1, 3, 5]\n"
     ]
    }
   ],
   "source": [
    "# Test your solution here\n",
    "\n",
    "def where(mylist,myfunc):\n",
    "    out= []\n",
    "    \n",
    "    ### BEGIN SOLUTION\n",
    "\n",
    "    # Fill in your solution here  \n",
    "\n",
    "    for index, value in enumerate(mylist):\n",
    "        if myfunc(value):\n",
    "            out.append(index) \n",
    "    \n",
    "    ### END SOLUTION\n",
    "    \n",
    "    return out\n",
    "\n",
    "mylist = [0.1, 0.6, 0.2, 0.8, 0.3, 0.9]\n",
    "greater_than_half = where(mylist, lambda x: x > 0.5)\n",
    "print(greater_than_half)"
   ]
  },
  {
   "cell_type": "markdown",
   "metadata": {},
   "source": [
    "*Exercise 6:* The `inrange(mymin,mymax)` function below returns a function that tests if it's input is between the specified values. Write corresponding functions that test:\n",
    "* Even\n",
    "* Odd\n",
    "* Greater than\n",
    "* Less than\n",
    "* Equal\n",
    "* Divisible by"
   ]
  },
  {
   "cell_type": "code",
   "execution_count": 15,
   "metadata": {},
   "outputs": [
    {
     "name": "stdout",
     "output_type": "stream",
     "text": [
      "True True False False False\n",
      "False False True True False\n",
      "Number of Entries passing F1: 492\n",
      "Number of Entries passing F2: 0\n"
     ]
    }
   ],
   "source": [
    "def in_range(mymin,mymax):\n",
    "    def testrange(x):\n",
    "        return x<mymax and x>=mymin\n",
    "    return testrange\n",
    "\n",
    "# Examples:\n",
    "F1=in_range(0,10)\n",
    "F2=in_range(10,20)\n",
    "\n",
    "# Test of in_range\n",
    "print (F1(0), F1(1), F1(10), F1(15), F1(20))\n",
    "print (F2(0), F2(1), F2(10), F2(15), F2(20))\n",
    "\n",
    "print (\"Number of Entries passing F1:\", len(where(data,F1)))\n",
    "print (\"Number of Entries passing F2:\", len(where(data,F2)))"
   ]
  },
  {
   "cell_type": "code",
   "execution_count": null,
   "metadata": {},
   "outputs": [],
   "source": [
    "### BEGIN SOLUTION\n",
    "\n",
    "def even():\n",
    "    def test(x):\n",
    "        return x % 2 == 0\n",
    "    return test\n",
    "\n",
    "def odd():\n",
    "    def test(x):\n",
    "        return x % 2 != 0\n",
    "    return test\n",
    "\n",
    "def greater_than(y):\n",
    "    def test(x):\n",
    "        return x > y\n",
    "    return test\n",
    "\n",
    "def less_than(y):\n",
    "    def test(x):\n",
    "        return x < y\n",
    "    return test\n",
    "\n",
    "def equal(y):\n",
    "    def test(x):\n",
    "        return x == y\n",
    "    return test\n",
    "\n",
    "def divisible_by(y):\n",
    "    def test(x):\n",
    "        return x % y == 0\n",
    "    return test\n",
    "\n",
    "    # Fill in your solution here        \n",
    "    \n",
    "### END SOLUTION"
   ]
  },
  {
   "cell_type": "code",
   "execution_count": 27,
   "metadata": {},
   "outputs": [
    {
     "name": "stdout",
     "output_type": "stream",
     "text": [
      "5\n",
      "[0, 2, 4, 6, 8]\n",
      "[3, 4, 5, 6, 7, 8, 9]\n",
      "[0, 1]\n",
      "[2]\n",
      "[2, 5, 8]\n"
     ]
    }
   ],
   "source": [
    "# Test your solution\n",
    "\n",
    "def even():\n",
    "    def test(x):\n",
    "        return x % 2 == 0\n",
    "    return test\n",
    "\n",
    "def odd():\n",
    "    def test(x):\n",
    "        return x % 2 != 0\n",
    "    return test\n",
    "\n",
    "def greater_than(y):\n",
    "    def test(x):\n",
    "        return x > y\n",
    "    return test\n",
    "\n",
    "def less_than(y):\n",
    "    def test(x):\n",
    "        return x < y\n",
    "    return test\n",
    "\n",
    "def equal(y):\n",
    "    def test(x):\n",
    "        return x == y\n",
    "    return test\n",
    "\n",
    "def divisible_by(y):\n",
    "    def test(x):\n",
    "        return x % y == 0\n",
    "    return test\n",
    "\n",
    "data = [1, 2, 3, 4, 5, 6, 7, 8, 9, 10]\n",
    "\n",
    "\n",
    "print(len(where(data, even())))\n",
    "print(where(data, odd())) \n",
    "print(where(data, greater_than(3))) \n",
    "print(where(data, less_than(3))) \n",
    "print(where(data, equal(3)))\n",
    "print(where(data, divisible_by(3))) "
   ]
  },
  {
   "cell_type": "markdown",
   "metadata": {},
   "source": [
    "*Exercise 7:* Repeat the previous exercise using `lambda` and the built-in python functions sum and map instead of your solution above. "
   ]
  },
  {
   "cell_type": "code",
   "execution_count": 33,
   "metadata": {},
   "outputs": [
    {
     "name": "stdout",
     "output_type": "stream",
     "text": [
      "5\n",
      "[0, 2, 4, 6, 8]\n",
      "[5, 6, 7, 8, 9]\n",
      "[0, 1, 2, 3, 4, 5]\n",
      "[2]\n",
      "[2, 5, 8]\n"
     ]
    }
   ],
   "source": [
    "### BEGIN SOLUTION\n",
    "\n",
    "    # Fill in your solution here \n",
    "def iseven():\n",
    "    def test(x):\n",
    "        return x % 2 == 0\n",
    "    return test\n",
    "\n",
    "def isodd():\n",
    "    def test(x):\n",
    "        return x % 2 != 0\n",
    "    return test\n",
    "\n",
    "def greater_than(y):\n",
    "    def test(x):\n",
    "        return x > y\n",
    "    return test\n",
    "\n",
    "def less_than(y):\n",
    "    def test(x):\n",
    "        return x < y\n",
    "    return test\n",
    "\n",
    "def equal(y):\n",
    "    def test(x):\n",
    "        return x == y\n",
    "    return test\n",
    "\n",
    "def divisible_by(y):\n",
    "    def test(x):\n",
    "        return x % y == 0\n",
    "    return test\n",
    "\n",
    "even = lambda x: x % 2 == 0\n",
    "odd = lambda x: x % 2 != 0\n",
    "greater_than_5 = lambda x: x > 5\n",
    "less_than_7 = lambda x: x < 7\n",
    "equal_3 = lambda x: x == 3\n",
    "divisible_3 = lambda x: x % 3 == 0\n",
    "\n",
    "data = [1, 2, 3, 4, 5, 6, 7, 8, 9, 10]\n",
    "\n",
    "\n",
    "print(len(where(data, even)))\n",
    "print(where(data, odd)) \n",
    "print(where(data, greater_than_5)) \n",
    "print(where(data, less_than_7)) \n",
    "print(where(data, equal_3))\n",
    "print(where(data, divisible_3)) \n",
    "    \n",
    "### END SOLUTION"
   ]
  },
  {
   "cell_type": "markdown",
   "metadata": {},
   "source": [
    "## Monte Carlo\n",
    "\n",
    "*Exercise 7:* Write a \"generator\" function called `generate_function(func,x_min,x_max,N)`, that instead of generating a flat distribution, generates a distribution with functional form coded in `func`. Note that `func` will always be > 0.  \n",
    "\n",
    "Use the test function below and your histogramming functions above to demonstrate that your generator is working properly.\n",
    "\n",
    "Hint: A simple, but slow, solution is to a draw random number `test_x` within the specified range and another number `p` between the `min` and `max` of the function (which you will have to determine). If `p<=function(test_x)`, then place `test_x` on the output. If not, repeat the process, drawing two new numbers. Repeat until you have the specified number of generated numbers, `N`. For this problem, it's OK to determine the `min` and `max` by numerically sampling the function.  "
   ]
  },
  {
   "cell_type": "code",
   "execution_count": null,
   "metadata": {},
   "outputs": [],
   "source": [
    "import random\n",
    "\n",
    "def generate_function(func,x_min,x_max,N=1000):\n",
    "    out = list()\n",
    "    ### BEGIN SOLUTION\n",
    "\n",
    "    # Fill in your solution here\n",
    "    samples = [func(x) for x in [x_min + (x_max - x_min) * i / 1000 for i in range(1001)]]\n",
    "    f_max = max(samples)\n",
    "\n",
    "        while len(out) < N:\n",
    "        test_x = random.uniform(x_min, x_max)\n",
    "        p = random.uniform(0, f_max)\n",
    "\n",
    "        if p <= func(test_x):\n",
    "            out.append(test_x)\n",
    "    \n",
    "    ### END SOLUTION\n",
    "    \n",
    "    return out\n",
    "\n"
   ]
  },
  {
   "cell_type": "code",
   "execution_count": 10,
   "metadata": {},
   "outputs": [
    {
     "name": "stdout",
     "output_type": "stream",
     "text": [
      "[-10.00, -8.00]: ##############\n",
      "[-8.00, -6.00]: ##############\n",
      "[-6.00, -4.00]: #######\n",
      "[-4.00, -2.00]: ###\n",
      "[-2.00, 0.00]: \n",
      "[0.00, 2.00]: ###\n",
      "[2.00, 4.00]: ########\n",
      "[4.00, 6.00]: ############\n",
      "[6.00, 8.00]: ################\n",
      "[8.00, 10.00]: #################\n"
     ]
    }
   ],
   "source": [
    "# A test function\n",
    "\n",
    "import random\n",
    "\n",
    "def generate_function(func, x_min, x_max, N=1000):\n",
    "    out = []\n",
    "    samples = [func(x) for x in [x_min + (x_max - x_min) * i / 1000 for i in range(1001)]]\n",
    "    f_max = max(samples)\n",
    "\n",
    "    while len(out) < N:\n",
    "        test_x = random.uniform(x_min, x_max)\n",
    "        p = random.uniform(0, f_max)\n",
    "        if p <= func(test_x):\n",
    "            out.append(test_x)\n",
    "    \n",
    "    return out\n",
    "\n",
    "def test_func(x, a=1, b=1):\n",
    "    return abs(a*x + b)\n",
    "\n",
    "def histogram(x, n_bins=10, x_min=None, x_max=None):\n",
    "    if x_min is None:\n",
    "        x_min = min(x)\n",
    "    if x_max is None:\n",
    "        x_max = max(x)\n",
    "    \n",
    "    bin_size = (x_max - x_min) / n_bins\n",
    "    hist = [0] * n_bins\n",
    "    bin_edges = [x_min + i * bin_size for i in range(n_bins + 1)]\n",
    "    \n",
    "    for value in x:\n",
    "        for i in range(n_bins):\n",
    "            if x_min + i * bin_size <= value < x_min + (i + 1) * bin_size:\n",
    "                hist[i] += 1\n",
    "                break\n",
    "                \n",
    "    return hist, bin_edges\n",
    "\n",
    "generate = generate_function(test_func, -10, 10, N=1000)\n",
    "\n",
    "hist, bin_edges = histogram(generate, n_bins=10, x_min=-10, x_max=10)\n",
    "\n",
    "for i in range(len(hist)):\n",
    "    print(f\"[{bin_edges[i]:.2f}, {bin_edges[i+1]:.2f}]: {'#' * (hist[i]//10)}\")"
   ]
  },
  {
   "cell_type": "markdown",
   "metadata": {},
   "source": [
    "*Exercise 8:* Use your function to generate 1000 numbers that are normal distributed, using the `gaussian` function below. Confirm the mean and variance of the data is close to the mean and variance you specify when building the Gaussian. Histogram the data. "
   ]
  },
  {
   "cell_type": "code",
   "execution_count": 11,
   "metadata": {},
   "outputs": [
    {
     "name": "stdout",
     "output_type": "stream",
     "text": [
      "g1 Generated Mean: 0.014791619694131586, Variance: 1.0508783285157135\n",
      "g2 Generated Mean: 9.947190370669428, Variance: 6.680791490231994\n"
     ]
    }
   ],
   "source": [
    "import math\n",
    "\n",
    "def gaussian(mean, sigma):\n",
    "    def f(x):\n",
    "        return math.exp(-((x-mean)**2)/(2*sigma**2))/math.sqrt(math.pi*sigma)\n",
    "    return f\n",
    "\n",
    "def generate_normal(func, x_min, x_max, N=1000):\n",
    "    out = []\n",
    "    samples = [func(x) for x in [x_min + (x_max - x_min) * i / 1000 for i in range(1001)]]\n",
    "    f_max = max(samples)\n",
    "    \n",
    "    while len(out) < N:\n",
    "        test_x = random.uniform(x_min, x_max)\n",
    "        p = random.uniform(0, f_max)\n",
    "        if p <= func(test_x):\n",
    "            out.append(test_x)\n",
    "    \n",
    "    return out\n",
    "\n",
    "def histogram(data, n_bins=10):\n",
    "    x_min = min(data)\n",
    "    x_max = max(data)\n",
    "    bin_size = (x_max - x_min) / n_bins\n",
    "    hist = [0] * n_bins\n",
    "    bin_edges = [x_min + i * bin_size for i in range(n_bins + 1)]\n",
    "    \n",
    "    for value in data:\n",
    "        for i in range(n_bins):\n",
    "            if x_min + i * bin_size <= value < x_min + (i + 1) * bin_size:\n",
    "                hist[i] += 1\n",
    "                break\n",
    "                \n",
    "    return hist, bin_edges\n",
    "\n",
    "# Example Instantiation\n",
    "g1=gaussian(0,1)\n",
    "g2=gaussian(10,3)\n",
    "\n",
    "N = 1000\n",
    "generate1 = generate_normal(g1, -5, 5, N)\n",
    "generate2 = generate_normal(g2, 4, 16, N)\n",
    "\n",
    "mean1 = sum(generate1) / N\n",
    "variance1 = sum((xi - mean1) ** 2 for xi in generate1) / N\n",
    "mean2 = sum(generate2) / N\n",
    "variance2 = sum((xi - mean2) ** 2 for xi in generate2) / N\n",
    "\n",
    "print(f\"g1 Generated Mean: {mean1}, Variance: {variance1}\")\n",
    "print(f\"g2 Generated Mean: {mean2}, Variance: {variance2}\")\n",
    "\n",
    "hist1, bin_edges1 = histogram(generate1, 20)\n",
    "hist2, bin_edges2 = histogram(generate2, 20)"
   ]
  },
  {
   "cell_type": "markdown",
   "metadata": {},
   "source": [
    "*Exercise 9:* Combine your `generate_function`, `where`, and `in_range` functions above to create an integrate function. Use your integrate function to show that approximately 68% of Normal distribution is within one variance."
   ]
  },
  {
   "cell_type": "code",
   "execution_count": 13,
   "metadata": {},
   "outputs": [
    {
     "name": "stdout",
     "output_type": "stream",
     "text": [
      "Integral: 0.6808725912858132\n",
      "Percentage within one standard deviation: 67.42311456573891%\n"
     ]
    }
   ],
   "source": [
    "import random\n",
    "\n",
    "def gaussian(mean, sigma):\n",
    "    def f(x):\n",
    "        return (1.0 / (sigma * (2 * math.pi) ** 0.5)) * math.exp(-0.5 * ((x - mean) / sigma) ** 2)\n",
    "    return f\n",
    "\n",
    "def in_range(mymin, mymax):\n",
    "    def testrange(x):\n",
    "        return mymin <= x < mymax\n",
    "    return testrange\n",
    "\n",
    "def where(mylist, myfunc):\n",
    "    return [i for i, val in enumerate(mylist) if myfunc(val)]\n",
    "\n",
    "def generate_function(func, x_min, x_max, N=1000):\n",
    "    out = []\n",
    "    while len(out) < N:\n",
    "        x = random.uniform(x_min, x_max)\n",
    "        out.append(x)\n",
    "    return out\n",
    "    \n",
    "def integrate(func, x_min, x_max, n_points=1000):\n",
    "    samples = generate_function(func, x_min, x_max, n_points)\n",
    "    func_values = [func(x) for x in samples]\n",
    "    integral = (sum(func_values) / len(func_values)) * (x_max - x_min)\n",
    "    return integral\n",
    "\n",
    "mu = 0\n",
    "sigma = 1\n",
    "\n",
    "x_min = mu - sigma\n",
    "x_max = mu + sigma\n",
    "\n",
    "g = gaussian(mu, sigma)\n",
    "\n",
    "integral = integrate(g, x_min, x_max, n_points=10000)\n",
    "\n",
    "print(f\"Integral: {integral}\")\n",
    "\n",
    "total_area = integrate(g, -3*sigma, 3*sigma, n_points=10000)\n",
    "print(f\"Percentage within one standard deviation: {integral / total_area * 100}%\")"
   ]
  },
  {
   "cell_type": "code",
   "execution_count": null,
   "metadata": {},
   "outputs": [],
   "source": []
  }
 ],
 "metadata": {
  "kernelspec": {
   "display_name": "Python 3 (ipykernel)",
   "language": "python",
   "name": "python3"
  },
  "language_info": {
   "codemirror_mode": {
    "name": "ipython",
    "version": 3
   },
   "file_extension": ".py",
   "mimetype": "text/x-python",
   "name": "python",
   "nbconvert_exporter": "python",
   "pygments_lexer": "ipython3",
   "version": "3.11.8"
  }
 },
 "nbformat": 4,
 "nbformat_minor": 4
}
