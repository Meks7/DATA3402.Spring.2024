{
 "cells": [
  {
   "cell_type": "code",
   "execution_count": 1,
   "id": "261706c9-1f97-4131-b631-55cb863d2270",
   "metadata": {},
   "outputs": [],
   "source": [
    "class Canvas:\n",
    "    def __init__(self, width, height):\n",
    "        self.width = width\n",
    "        self.height = height\n",
    "        self.data = [[' '] * width for i in range(height)]\n",
    "\n",
    "    def set_pixel(self, row, col, char='*'):\n",
    "        self.data[row][col] = char\n",
    "\n",
    "    def get_pixel(self, row, col):\n",
    "        return self.data[row][col]\n",
    "    \n",
    "    def clear_canvas(self):\n",
    "        self.data = [[' '] * self.width for i in range(self.height)]\n",
    "    \n",
    "    def v_line(self, x, y, w, **kargs):\n",
    "        for i in range(x,x+w):\n",
    "            self.set_pixel(i,y, **kargs)\n",
    "\n",
    "    def h_line(self, x, y, h, **kargs):\n",
    "        for i in range(y,y+h):\n",
    "            self.set_pixel(x,i, **kargs)\n",
    "            \n",
    "    def line(self, x1, y1, x2, y2, **kargs):\n",
    "        slope = (y2-y1) / (x2-x1)\n",
    "        for y in range(y1,y2):\n",
    "            x= int(slope * y)\n",
    "            self.set_pixel(x,y, **kargs)\n",
    "            \n",
    "    def display(self):\n",
    "        print(\"\\n\".join([\"\".join(row) for row in self.data]))"
   ]
  },
  {
   "cell_type": "code",
   "execution_count": null,
   "id": "18951fc6-9681-4d53-9d9c-0f0ba7191e7e",
   "metadata": {},
   "outputs": [],
   "source": []
  }
 ],
 "metadata": {
  "kernelspec": {
   "display_name": "Python 3 (ipykernel)",
   "language": "python",
   "name": "python3"
  },
  "language_info": {
   "codemirror_mode": {
    "name": "ipython",
    "version": 3
   },
   "file_extension": ".py",
   "mimetype": "text/x-python",
   "name": "python",
   "nbconvert_exporter": "python",
   "pygments_lexer": "ipython3",
   "version": "3.11.8"
  }
 },
 "nbformat": 4,
 "nbformat_minor": 5
}
